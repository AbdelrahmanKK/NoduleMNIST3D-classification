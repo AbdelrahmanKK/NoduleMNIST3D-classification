{
  "nbformat": 4,
  "nbformat_minor": 0,
  "metadata": {
    "colab": {
      "provenance": [],
      "gpuType": "T4",
      "include_colab_link": true
    },
    "kernelspec": {
      "name": "python3",
      "display_name": "Python 3"
    },
    "language_info": {
      "name": "python"
    },
    "accelerator": "GPU"
  },
  "cells": [
    {
      "cell_type": "markdown",
      "metadata": {
        "id": "view-in-github",
        "colab_type": "text"
      },
      "source": [
        "<a href=\"https://colab.research.google.com/github/AbdelrahmanKK/NoduleMNIST3D-classification/blob/main/Training.ipynb\" target=\"_parent\"><img src=\"https://colab.research.google.com/assets/colab-badge.svg\" alt=\"Open In Colab\"/></a>"
      ]
    },
    {
      "cell_type": "markdown",
      "source": [
        "# Install and import dependencies"
      ],
      "metadata": {
        "id": "220k-7jeb-xL"
      }
    },
    {
      "cell_type": "code",
      "source": [
        "!pip install medmnist\n",
        "!pip install monai\n",
        "!pip install ray"
      ],
      "metadata": {
        "id": "dKLQIZURxG4G",
        "colab": {
          "base_uri": "https://localhost:8080/"
        },
        "outputId": "79095de2-84bd-413e-e3f1-cfd2837f364f"
      },
      "execution_count": null,
      "outputs": [
        {
          "output_type": "stream",
          "name": "stdout",
          "text": [
            "Collecting medmnist\n",
            "  Downloading medmnist-2.2.3-py3-none-any.whl (22 kB)\n",
            "Requirement already satisfied: numpy in /usr/local/lib/python3.10/dist-packages (from medmnist) (1.23.5)\n",
            "Requirement already satisfied: pandas in /usr/local/lib/python3.10/dist-packages (from medmnist) (1.5.3)\n",
            "Requirement already satisfied: scikit-learn in /usr/local/lib/python3.10/dist-packages (from medmnist) (1.2.2)\n",
            "Requirement already satisfied: scikit-image in /usr/local/lib/python3.10/dist-packages (from medmnist) (0.19.3)\n",
            "Requirement already satisfied: tqdm in /usr/local/lib/python3.10/dist-packages (from medmnist) (4.66.1)\n",
            "Requirement already satisfied: Pillow in /usr/local/lib/python3.10/dist-packages (from medmnist) (9.4.0)\n",
            "Collecting fire (from medmnist)\n",
            "  Downloading fire-0.5.0.tar.gz (88 kB)\n",
            "\u001b[2K     \u001b[90m━━━━━━━━━━━━━━━━━━━━━━━━━━━━━━━━━━━━━━━━\u001b[0m \u001b[32m88.3/88.3 kB\u001b[0m \u001b[31m4.2 MB/s\u001b[0m eta \u001b[36m0:00:00\u001b[0m\n",
            "\u001b[?25h  Preparing metadata (setup.py) ... \u001b[?25l\u001b[?25hdone\n",
            "Requirement already satisfied: torch in /usr/local/lib/python3.10/dist-packages (from medmnist) (2.1.0+cu118)\n",
            "Requirement already satisfied: torchvision in /usr/local/lib/python3.10/dist-packages (from medmnist) (0.16.0+cu118)\n",
            "Requirement already satisfied: six in /usr/local/lib/python3.10/dist-packages (from fire->medmnist) (1.16.0)\n",
            "Requirement already satisfied: termcolor in /usr/local/lib/python3.10/dist-packages (from fire->medmnist) (2.3.0)\n",
            "Requirement already satisfied: python-dateutil>=2.8.1 in /usr/local/lib/python3.10/dist-packages (from pandas->medmnist) (2.8.2)\n",
            "Requirement already satisfied: pytz>=2020.1 in /usr/local/lib/python3.10/dist-packages (from pandas->medmnist) (2023.3.post1)\n",
            "Requirement already satisfied: scipy>=1.4.1 in /usr/local/lib/python3.10/dist-packages (from scikit-image->medmnist) (1.11.3)\n",
            "Requirement already satisfied: networkx>=2.2 in /usr/local/lib/python3.10/dist-packages (from scikit-image->medmnist) (3.2.1)\n",
            "Requirement already satisfied: imageio>=2.4.1 in /usr/local/lib/python3.10/dist-packages (from scikit-image->medmnist) (2.31.6)\n",
            "Requirement already satisfied: tifffile>=2019.7.26 in /usr/local/lib/python3.10/dist-packages (from scikit-image->medmnist) (2023.9.26)\n",
            "Requirement already satisfied: PyWavelets>=1.1.1 in /usr/local/lib/python3.10/dist-packages (from scikit-image->medmnist) (1.4.1)\n",
            "Requirement already satisfied: packaging>=20.0 in /usr/local/lib/python3.10/dist-packages (from scikit-image->medmnist) (23.2)\n",
            "Requirement already satisfied: joblib>=1.1.1 in /usr/local/lib/python3.10/dist-packages (from scikit-learn->medmnist) (1.3.2)\n",
            "Requirement already satisfied: threadpoolctl>=2.0.0 in /usr/local/lib/python3.10/dist-packages (from scikit-learn->medmnist) (3.2.0)\n",
            "Requirement already satisfied: filelock in /usr/local/lib/python3.10/dist-packages (from torch->medmnist) (3.13.1)\n",
            "Requirement already satisfied: typing-extensions in /usr/local/lib/python3.10/dist-packages (from torch->medmnist) (4.5.0)\n",
            "Requirement already satisfied: sympy in /usr/local/lib/python3.10/dist-packages (from torch->medmnist) (1.12)\n",
            "Requirement already satisfied: jinja2 in /usr/local/lib/python3.10/dist-packages (from torch->medmnist) (3.1.2)\n",
            "Requirement already satisfied: fsspec in /usr/local/lib/python3.10/dist-packages (from torch->medmnist) (2023.6.0)\n",
            "Requirement already satisfied: triton==2.1.0 in /usr/local/lib/python3.10/dist-packages (from torch->medmnist) (2.1.0)\n",
            "Requirement already satisfied: requests in /usr/local/lib/python3.10/dist-packages (from torchvision->medmnist) (2.31.0)\n",
            "Requirement already satisfied: MarkupSafe>=2.0 in /usr/local/lib/python3.10/dist-packages (from jinja2->torch->medmnist) (2.1.3)\n",
            "Requirement already satisfied: charset-normalizer<4,>=2 in /usr/local/lib/python3.10/dist-packages (from requests->torchvision->medmnist) (3.3.2)\n",
            "Requirement already satisfied: idna<4,>=2.5 in /usr/local/lib/python3.10/dist-packages (from requests->torchvision->medmnist) (3.4)\n",
            "Requirement already satisfied: urllib3<3,>=1.21.1 in /usr/local/lib/python3.10/dist-packages (from requests->torchvision->medmnist) (2.0.7)\n",
            "Requirement already satisfied: certifi>=2017.4.17 in /usr/local/lib/python3.10/dist-packages (from requests->torchvision->medmnist) (2023.7.22)\n",
            "Requirement already satisfied: mpmath>=0.19 in /usr/local/lib/python3.10/dist-packages (from sympy->torch->medmnist) (1.3.0)\n",
            "Building wheels for collected packages: fire\n",
            "  Building wheel for fire (setup.py) ... \u001b[?25l\u001b[?25hdone\n",
            "  Created wheel for fire: filename=fire-0.5.0-py2.py3-none-any.whl size=116933 sha256=a620dc19ff7b9ef03a0d6ceed0138bb32d3dc63176d7ebec39e6f75f8bc87fe5\n",
            "  Stored in directory: /root/.cache/pip/wheels/90/d4/f7/9404e5db0116bd4d43e5666eaa3e70ab53723e1e3ea40c9a95\n",
            "Successfully built fire\n",
            "Installing collected packages: fire, medmnist\n",
            "Successfully installed fire-0.5.0 medmnist-2.2.3\n",
            "Collecting monai\n",
            "  Downloading monai-1.3.0-202310121228-py3-none-any.whl (1.3 MB)\n",
            "\u001b[2K     \u001b[90m━━━━━━━━━━━━━━━━━━━━━━━━━━━━━━━━━━━━━━━━\u001b[0m \u001b[32m1.3/1.3 MB\u001b[0m \u001b[31m17.8 MB/s\u001b[0m eta \u001b[36m0:00:00\u001b[0m\n",
            "\u001b[?25hRequirement already satisfied: numpy>=1.20 in /usr/local/lib/python3.10/dist-packages (from monai) (1.23.5)\n",
            "Requirement already satisfied: torch>=1.9 in /usr/local/lib/python3.10/dist-packages (from monai) (2.1.0+cu118)\n",
            "Requirement already satisfied: filelock in /usr/local/lib/python3.10/dist-packages (from torch>=1.9->monai) (3.13.1)\n",
            "Requirement already satisfied: typing-extensions in /usr/local/lib/python3.10/dist-packages (from torch>=1.9->monai) (4.5.0)\n",
            "Requirement already satisfied: sympy in /usr/local/lib/python3.10/dist-packages (from torch>=1.9->monai) (1.12)\n",
            "Requirement already satisfied: networkx in /usr/local/lib/python3.10/dist-packages (from torch>=1.9->monai) (3.2.1)\n",
            "Requirement already satisfied: jinja2 in /usr/local/lib/python3.10/dist-packages (from torch>=1.9->monai) (3.1.2)\n",
            "Requirement already satisfied: fsspec in /usr/local/lib/python3.10/dist-packages (from torch>=1.9->monai) (2023.6.0)\n",
            "Requirement already satisfied: triton==2.1.0 in /usr/local/lib/python3.10/dist-packages (from torch>=1.9->monai) (2.1.0)\n",
            "Requirement already satisfied: MarkupSafe>=2.0 in /usr/local/lib/python3.10/dist-packages (from jinja2->torch>=1.9->monai) (2.1.3)\n",
            "Requirement already satisfied: mpmath>=0.19 in /usr/local/lib/python3.10/dist-packages (from sympy->torch>=1.9->monai) (1.3.0)\n",
            "Installing collected packages: monai\n",
            "Successfully installed monai-1.3.0\n",
            "Collecting ray\n",
            "  Downloading ray-2.8.0-cp310-cp310-manylinux2014_x86_64.whl (62.5 MB)\n",
            "\u001b[2K     \u001b[90m━━━━━━━━━━━━━━━━━━━━━━━━━━━━━━━━━━━━━━━━\u001b[0m \u001b[32m62.5/62.5 MB\u001b[0m \u001b[31m9.3 MB/s\u001b[0m eta \u001b[36m0:00:00\u001b[0m\n",
            "\u001b[?25hRequirement already satisfied: click>=7.0 in /usr/local/lib/python3.10/dist-packages (from ray) (8.1.7)\n",
            "Requirement already satisfied: filelock in /usr/local/lib/python3.10/dist-packages (from ray) (3.13.1)\n",
            "Requirement already satisfied: jsonschema in /usr/local/lib/python3.10/dist-packages (from ray) (4.19.2)\n",
            "Requirement already satisfied: msgpack<2.0.0,>=1.0.0 in /usr/local/lib/python3.10/dist-packages (from ray) (1.0.7)\n",
            "Requirement already satisfied: packaging in /usr/local/lib/python3.10/dist-packages (from ray) (23.2)\n",
            "Requirement already satisfied: protobuf!=3.19.5,>=3.15.3 in /usr/local/lib/python3.10/dist-packages (from ray) (3.20.3)\n",
            "Requirement already satisfied: pyyaml in /usr/local/lib/python3.10/dist-packages (from ray) (6.0.1)\n",
            "Requirement already satisfied: aiosignal in /usr/local/lib/python3.10/dist-packages (from ray) (1.3.1)\n",
            "Requirement already satisfied: frozenlist in /usr/local/lib/python3.10/dist-packages (from ray) (1.4.0)\n",
            "Requirement already satisfied: requests in /usr/local/lib/python3.10/dist-packages (from ray) (2.31.0)\n",
            "Requirement already satisfied: numpy>=1.19.3 in /usr/local/lib/python3.10/dist-packages (from ray) (1.23.5)\n",
            "Requirement already satisfied: attrs>=22.2.0 in /usr/local/lib/python3.10/dist-packages (from jsonschema->ray) (23.1.0)\n",
            "Requirement already satisfied: jsonschema-specifications>=2023.03.6 in /usr/local/lib/python3.10/dist-packages (from jsonschema->ray) (2023.7.1)\n",
            "Requirement already satisfied: referencing>=0.28.4 in /usr/local/lib/python3.10/dist-packages (from jsonschema->ray) (0.30.2)\n",
            "Requirement already satisfied: rpds-py>=0.7.1 in /usr/local/lib/python3.10/dist-packages (from jsonschema->ray) (0.12.0)\n",
            "Requirement already satisfied: charset-normalizer<4,>=2 in /usr/local/lib/python3.10/dist-packages (from requests->ray) (3.3.2)\n",
            "Requirement already satisfied: idna<4,>=2.5 in /usr/local/lib/python3.10/dist-packages (from requests->ray) (3.4)\n",
            "Requirement already satisfied: urllib3<3,>=1.21.1 in /usr/local/lib/python3.10/dist-packages (from requests->ray) (2.0.7)\n",
            "Requirement already satisfied: certifi>=2017.4.17 in /usr/local/lib/python3.10/dist-packages (from requests->ray) (2023.7.22)\n",
            "Installing collected packages: ray\n",
            "Successfully installed ray-2.8.0\n"
          ]
        }
      ]
    },
    {
      "cell_type": "code",
      "source": [
        "%matplotlib inline\n",
        "from tqdm import tqdm\n",
        "import numpy as np\n",
        "from sklearn.metrics import roc_curve, roc_auc_score, accuracy_score\n",
        "from matplotlib import pyplot as plt\n",
        "import medmnist\n",
        "from medmnist import NoduleMNIST3D\n",
        "\n",
        "\n",
        "from ray import tune\n",
        "from ray.air import  session\n",
        "from ray.tune.schedulers import ASHAScheduler\n",
        "\n",
        "\n",
        "import torch\n",
        "import torch.nn as nn\n",
        "import torch.optim as optim\n",
        "import torch.nn.functional as F\n",
        "from torch.utils.data import random_split\n",
        "import torchvision\n",
        "import torchvision.transforms as transforms\n",
        "from torch.utils.data import WeightedRandomSampler\n",
        "\n",
        "from torchvision.transforms import v2\n",
        "from torchsummary import summary\n",
        "from torch.utils.data import DataLoader, random_split\n",
        "from numpy.random.mtrand import random\n",
        "from monai.transforms import (\n",
        "    Activations,\n",
        "    EnsureChannelFirst,\n",
        "    AsDiscrete,\n",
        "    Compose,\n",
        "    RandFlip,\n",
        "    RandRotate,\n",
        "    RandZoom,\n",
        "    ScaleIntensity,\n",
        "    ToTensor,\n",
        "    NormalizeIntensity,\n",
        "    Resize,\n",
        ")\n",
        "\n",
        "\n",
        "\n",
        "from monai.networks.nets import DenseNet121\n",
        "\n",
        "\n",
        "device = torch.device('cuda' if torch.cuda.is_available() else 'cpu')\n",
        "print(\"Device -- > \" + str(device))"
      ],
      "metadata": {
        "id": "7WoWaDxa13Pk",
        "colab": {
          "base_uri": "https://localhost:8080/"
        },
        "outputId": "7ea255ce-80de-4a17-d0c3-ed3ca8e6593c"
      },
      "execution_count": null,
      "outputs": [
        {
          "output_type": "stream",
          "name": "stdout",
          "text": [
            "Device -- > cuda\n"
          ]
        }
      ]
    },
    {
      "cell_type": "code",
      "source": [
        "from google.colab import drive\n",
        "drive.mount('/content/drive')"
      ],
      "metadata": {
        "id": "bJQKOD9nvtbD"
      },
      "execution_count": null,
      "outputs": []
    },
    {
      "cell_type": "markdown",
      "source": [
        "# Data Setup and Configuration\n",
        "\n",
        "\n",
        "\n",
        "- **NUM_EPOCHS**: The number of training epochs\n",
        "\n",
        "- **BATCH_SIZE**\n",
        "\n",
        "- **learn_rate**\n",
        "\n",
        "- **info**: This dictionary contains information about the  dataset, such as the task, number of channels, and class labels.\n",
        "\n",
        "- **n_channels**: Indicates the number of image channels (e.g., 1 for grayscale, 3 for RGB).\n",
        "\n",
        "- **n_classes**: Specifies the number of classes or categories in the dataset.\n",
        "\n",
        "\n"
      ],
      "metadata": {
        "id": "EtCM195K5G1Q"
      }
    },
    {
      "cell_type": "code",
      "source": [
        "# hyparameters\n",
        "BATCH_SIZE = 80\n",
        "EPOCH_NUM = 20\n",
        "learn_rate = 0.00001\n",
        "\n",
        "# dataset\n",
        "data_name = 'nodulemnist3d'\n",
        "info = medmnist.INFO[data_name]\n",
        "n_channels = info['n_channels']\n",
        "n_classes = len(info['label'])\n",
        "print(info)"
      ],
      "metadata": {
        "id": "Z2pNiZLn1yKg",
        "colab": {
          "base_uri": "https://localhost:8080/"
        },
        "outputId": "99cde7fd-6e29-49e3-fe43-42abdb8912d5"
      },
      "execution_count": null,
      "outputs": [
        {
          "output_type": "stream",
          "name": "stdout",
          "text": [
            "{'python_class': 'NoduleMNIST3D', 'description': 'The NoduleMNIST3D is based on the LIDC-IDRI, a large public lung nodule dataset, containing images from thoracic CT scans. The dataset is designed for both lung nodule segmentation and 5-level malignancy classification task. To perform binary classification, we categorize cases with malignancy level 1/2 into negative class and 4/5 into positive class, ignoring the cases with malignancy level 3. We split the source dataset with a ratio of 7:1:2 into training, validation and test set, and center-crop the spatially normalized images (with a spacing of 1mm×1mm×1mm) into 28×28×28.', 'url': 'https://zenodo.org/record/6496656/files/nodulemnist3d.npz?download=1', 'MD5': '8755a7e9e05a4d9ce80a24c3e7a256f3', 'task': 'binary-class', 'label': {'0': 'benign', '1': 'malignant'}, 'n_channels': 1, 'n_samples': {'train': 1158, 'val': 165, 'test': 310}, 'license': 'CC BY 4.0'}\n"
          ]
        }
      ]
    },
    {
      "cell_type": "markdown",
      "source": [
        "# Data augmentation\n"
      ],
      "metadata": {
        "id": "26twZB0LIiim"
      }
    },
    {
      "cell_type": "code",
      "source": [
        "# transforms =  Compose([\n",
        "                    # ToTensor(),\n",
        "#                   ScaleIntensity(minv=1,maxv=2),\n",
        "#                   RandRotate(range_x=np.pi / 12, prob=0.5, keep_size=True),\n",
        "#                   RandFlip(spatial_axis=0, prob=0.5),\n",
        "#                   NormalizeIntensity(),\n",
        "#                   ])\n",
        "\n",
        "transforms = Compose([\n",
        "    ToTensor(),\n",
        "    NormalizeIntensity(),\n",
        "\n",
        "])\n"
      ],
      "metadata": {
        "id": "cUNkrV-6Nv_o"
      },
      "execution_count": null,
      "outputs": []
    },
    {
      "cell_type": "markdown",
      "source": [
        "# Download Dataset"
      ],
      "metadata": {
        "id": "3AUaIAB3I3X8"
      }
    },
    {
      "cell_type": "markdown",
      "source": [
        "### Split from \"MedMNIST v2\" paper is\n",
        "### Train : Validation : Test = 7 : 1 : 2\n",
        "\n"
      ],
      "metadata": {
        "id": "YqkTFuH_M79H"
      }
    },
    {
      "cell_type": "code",
      "source": [
        "\n",
        "train_dataset = NoduleMNIST3D(split='train',transform = transforms, download=True)\n",
        "validation_dataset = NoduleMNIST3D(split='val', transform = transforms, download=True)\n",
        "\n",
        "\n",
        "\n",
        "# Some details\n",
        "print(train_dataset)\n",
        "print(\"===================\")\n",
        "print(validation_dataset)\n",
        "\n"
      ],
      "metadata": {
        "colab": {
          "base_uri": "https://localhost:8080/"
        },
        "id": "0Qe_qoCeEKLy",
        "outputId": "2cb91794-8e26-4170-e5c6-65a741ae978a"
      },
      "execution_count": null,
      "outputs": [
        {
          "output_type": "stream",
          "name": "stdout",
          "text": [
            "Using downloaded and verified file: /root/.medmnist/nodulemnist3d.npz\n",
            "Using downloaded and verified file: /root/.medmnist/nodulemnist3d.npz\n",
            "Dataset NoduleMNIST3D (nodulemnist3d)\n",
            "    Number of datapoints: 1158\n",
            "    Root location: /root/.medmnist\n",
            "    Split: train\n",
            "    Task: binary-class\n",
            "    Number of channels: 1\n",
            "    Meaning of labels: {'0': 'benign', '1': 'malignant'}\n",
            "    Number of samples: {'train': 1158, 'val': 165, 'test': 310}\n",
            "    Description: The NoduleMNIST3D is based on the LIDC-IDRI, a large public lung nodule dataset, containing images from thoracic CT scans. The dataset is designed for both lung nodule segmentation and 5-level malignancy classification task. To perform binary classification, we categorize cases with malignancy level 1/2 into negative class and 4/5 into positive class, ignoring the cases with malignancy level 3. We split the source dataset with a ratio of 7:1:2 into training, validation and test set, and center-crop the spatially normalized images (with a spacing of 1mm×1mm×1mm) into 28×28×28.\n",
            "    License: CC BY 4.0\n",
            "===================\n",
            "Dataset NoduleMNIST3D (nodulemnist3d)\n",
            "    Number of datapoints: 165\n",
            "    Root location: /root/.medmnist\n",
            "    Split: val\n",
            "    Task: binary-class\n",
            "    Number of channels: 1\n",
            "    Meaning of labels: {'0': 'benign', '1': 'malignant'}\n",
            "    Number of samples: {'train': 1158, 'val': 165, 'test': 310}\n",
            "    Description: The NoduleMNIST3D is based on the LIDC-IDRI, a large public lung nodule dataset, containing images from thoracic CT scans. The dataset is designed for both lung nodule segmentation and 5-level malignancy classification task. To perform binary classification, we categorize cases with malignancy level 1/2 into negative class and 4/5 into positive class, ignoring the cases with malignancy level 3. We split the source dataset with a ratio of 7:1:2 into training, validation and test set, and center-crop the spatially normalized images (with a spacing of 1mm×1mm×1mm) into 28×28×28.\n",
            "    License: CC BY 4.0\n"
          ]
        }
      ]
    },
    {
      "cell_type": "markdown",
      "source": [
        "# Create data loaders"
      ],
      "metadata": {
        "id": "FQTWfJVOE1Sc"
      }
    },
    {
      "cell_type": "code",
      "source": [
        "train_loader = DataLoader(train_dataset, batch_size=BATCH_SIZE, shuffle=True)  # shuffling is enabled in the training\n",
        "validation_loader = DataLoader(validation_dataset, batch_size=BATCH_SIZE, shuffle=False)\n",
        "\n"
      ],
      "metadata": {
        "id": "elYHdkyJE0Gx"
      },
      "execution_count": null,
      "outputs": []
    },
    {
      "cell_type": "markdown",
      "source": [
        "# Check the count of each class\n",
        "\n",
        "\n",
        "\n"
      ],
      "metadata": {
        "id": "vtrp_nLA9g82"
      }
    },
    {
      "cell_type": "code",
      "source": [
        "class_names = ['benign', 'maliginant']\n",
        "class_counts = [0, 0]\n",
        "\n",
        "for batch ,labels in train_loader:\n",
        "    for label in labels:\n",
        "        class_counts[label] += 1\n",
        "\n",
        "print(class_names[0] +' = '+ str(class_counts[0]))\n",
        "print(class_names[1] +' = '+ str(class_counts[1]))\n",
        "x_pos = np.arange(len(class_names))\n",
        "plt.bar(x_pos, class_counts)\n",
        "plt.xticks(x_pos, class_names)\n",
        "plt.xlabel('Class')\n",
        "plt.ylabel('Occurrences')\n",
        "plt.title('Class Counts')\n",
        "plt.show()"
      ],
      "metadata": {
        "colab": {
          "base_uri": "https://localhost:8080/",
          "height": 508
        },
        "id": "7-sRrFPx04GY",
        "outputId": "364a8e2e-f195-4574-e980-9a5270a3efcb"
      },
      "execution_count": null,
      "outputs": [
        {
          "output_type": "stream",
          "name": "stdout",
          "text": [
            "benign = 863\n",
            "maliginant = 295\n"
          ]
        },
        {
          "output_type": "display_data",
          "data": {
            "text/plain": [
              "<Figure size 640x480 with 1 Axes>"
            ],
            "image/png": "[encoded data removed]"
          },
          "metadata": {}
        }
      ]
    },
    {
      "cell_type": "markdown",
      "source": [
        "# Addressing class imbalance\n",
        "\n",
        "If we want to reduce the class imbalance, we could duplicate the malignant data. I tried it but there was no major improvment."
      ],
      "metadata": {
        "id": "UurC9leD2Bsr"
      }
    },
    {
      "cell_type": "code",
      "source": [
        "# print(len(train_dataset))\n",
        "# duplicated_data = []\n",
        "# for data, target in train_dataset:\n",
        "#     if target[0] == 1:\n",
        "#         duplicated_data.append((data, target))\n",
        "\n",
        "# # Concatenate the original dataset with the duplicated elements\n",
        "# train_dataset = torch.utils.data.ConcatDataset([train_dataset, duplicated_data])\n",
        "\n",
        "# print(len(train_dataset))\n"
      ],
      "metadata": {
        "id": "G0tV9u8E17aX"
      },
      "execution_count": null,
      "outputs": []
    },
    {
      "cell_type": "markdown",
      "source": [
        "# Visulaization"
      ],
      "metadata": {
        "id": "jjt_5hKxI_HQ"
      }
    },
    {
      "cell_type": "code",
      "source": [
        "\n",
        "labels_map = {\n",
        "    0: \"benign\",\n",
        "    1: \"malignant\",\n",
        "}\n",
        "\n",
        "\n",
        "random_batch = next(iter(train_loader))\n",
        "images = random_batch[0]\n",
        "labels = random_batch[1]\n",
        "fig = plt.figure(figsize=(10, 10))\n",
        "for i in range(9):\n",
        "    index = np.random.randint(0, len(images))\n",
        "    plt.subplot(3, 3, i + 1)\n",
        "    plt.imshow(images[index][0].permute(1, 2, 0)[:,:,12],cmap = \"gray\")\n",
        "\n",
        "    plt.axis('off')\n",
        "    plt.title(labels_map[torch.IntTensor.item(labels[index][0])])\n"
      ],
      "metadata": {
        "colab": {
          "base_uri": "https://localhost:8080/",
          "height": 829
        },
        "id": "Phn2JL5wWRS6",
        "outputId": "6ab742f1-14d1-4b94-81f1-0e74f59511c0"
      },
      "execution_count": null,
      "outputs": [
        {
          "output_type": "display_data",
          "data": {
            "text/plain": [
              "<Figure size 1000x1000 with 9 Axes>"
            ],
            "image/png": "[encoded data removed]"
          },
          "metadata": {}
        }
      ]
    },
    {
      "cell_type": "markdown",
      "source": [
        "# 5-layer 3D CNN implementation\n",
        "#### **Model Architecture**\n",
        "\n",
        "\n",
        "\n",
        "- in_channels:  number of input channels, ,will be 1 for our example\n",
        "- num_classes:  number of classes\n",
        "\n",
        "#### The layers and their operations are as follows:\n",
        "1. layer1: Convolutional layer with 16 filters, batch normalization, and ReLU activation.\n",
        "2. layer2: Convolutional layer with 16 filters, batch normalization, ReLU activation, and max-pooling.\n",
        "3. layer3: Convolutional layer with 64 filters, batch normalization, and ReLU activation.\n",
        "4. layer4: Convolutional layer with 64 filters, batch normalization, and ReLU activation.\n",
        "5. layer5: Convolutional layer with 64 filters, batch normalization, ReLU activation, and max-pooling.\n",
        "6. fullyconnected: Fully connected layers for classification."
      ],
      "metadata": {
        "id": "CMpEJWL1_zcv"
      }
    },
    {
      "cell_type": "code",
      "source": [
        "class CNN_3D(nn.Module):\n",
        "    def __init__(self, in_channels, num_classes):\n",
        "        super(CNN_3D, self).__init__()\n",
        "\n",
        "        self.layer1 = nn.Sequential(\n",
        "            nn.Conv3d(in_channels, 16, kernel_size=3),\n",
        "            nn.BatchNorm3d(16),\n",
        "            nn.ReLU())\n",
        "\n",
        "        self.layer2 = nn.Sequential(\n",
        "            nn.Conv3d(16, 16, kernel_size=3),\n",
        "            nn.BatchNorm3d(16),\n",
        "            nn.ReLU(),\n",
        "            nn.MaxPool3d(kernel_size=2, stride=2))\n",
        "\n",
        "        self.layer3 = nn.Sequential(\n",
        "            nn.Conv3d(16, 64, kernel_size=3),\n",
        "            nn.BatchNorm3d(64),\n",
        "            nn.ReLU())\n",
        "\n",
        "        self.layer4 = nn.Sequential(\n",
        "            nn.Conv3d(64, 64, kernel_size=3),\n",
        "            nn.BatchNorm3d(64),\n",
        "            nn.ReLU())\n",
        "\n",
        "        self.layer5 = nn.Sequential(\n",
        "            nn.Conv3d(64, 64, kernel_size=3, padding=1),\n",
        "            nn.BatchNorm3d(64),\n",
        "            nn.ReLU(),\n",
        "            nn.MaxPool3d(kernel_size=2, stride=2))\n",
        "\n",
        "        self.fullyconnected = nn.Sequential(\n",
        "            nn.Linear(64*4*4*4 , 128),\n",
        "            nn.ReLU(),\n",
        "            nn.Linear(128, 128),\n",
        "            nn.ReLU(),\n",
        "            nn.Linear(128, 1)\n",
        "        )\n",
        "\n",
        "    def forward(self, x):\n",
        "        x = self.layer1(x.float())\n",
        "        x = self.layer2(x)\n",
        "        x = self.layer3(x)\n",
        "        x = self.layer4(x)\n",
        "        x = self.layer5(x)\n",
        "        x = x.view(x.size(0), -1)  # Flatten\n",
        "        x = self.fullyconnected(x)\n",
        "        x = torch.sigmoid(x)\n",
        "        return x\n",
        "\n",
        "\n",
        "model = CNN_3D(in_channels=n_channels, num_classes=n_classes).to(device)\n"
      ],
      "metadata": {
        "id": "3MDPY396f0DO"
      },
      "execution_count": null,
      "outputs": []
    },
    {
      "cell_type": "markdown",
      "source": [
        "**Note**:  I tried denseNet121 and monai classifier but the results was not  better"
      ],
      "metadata": {
        "id": "mUgsrFJo-hRq"
      }
    },
    {
      "cell_type": "code",
      "source": [
        "# model = Classifier(in_shape=[1, 28, 28, 28], classes=2,\n",
        "#                    channels=(8, 16, 32, 64), strides=(2, 2, 2)).to(device)\n",
        "# model = monai.networks.nets.DenseNet121(spatial_dims=3, in_channels=1, out_channels=1).to(device)"
      ],
      "metadata": {
        "id": "oaZXBuM-Sqjn"
      },
      "execution_count": null,
      "outputs": []
    },
    {
      "cell_type": "markdown",
      "source": [
        "# Loss function and Optimizer"
      ],
      "metadata": {
        "id": "RxCRilL2C5Rb"
      }
    },
    {
      "cell_type": "code",
      "source": [
        "criterion = nn.BCELoss()\n",
        "optimizer = optim.Adam(model.parameters(), lr = learn_rate)"
      ],
      "metadata": {
        "id": "Mv8hscK1_vIm"
      },
      "execution_count": null,
      "outputs": []
    },
    {
      "cell_type": "markdown",
      "source": [
        "# Model Summary"
      ],
      "metadata": {
        "id": "3f613cWDC82i"
      }
    },
    {
      "cell_type": "code",
      "source": [
        "random_sample, randmom_label = train_dataset[0]\n",
        "summary(model, random_sample.shape)"
      ],
      "metadata": {
        "colab": {
          "base_uri": "https://localhost:8080/"
        },
        "id": "-SSzCpcA_5KV",
        "outputId": "4ea32dec-7a6a-4e87-bb22-913bd6c9f920"
      },
      "execution_count": null,
      "outputs": [
        {
          "output_type": "stream",
          "name": "stdout",
          "text": [
            "----------------------------------------------------------------\n",
            "        Layer (type)               Output Shape         Param #\n",
            "================================================================\n",
            "            Conv3d-1       [-1, 16, 26, 26, 26]             448\n",
            "       BatchNorm3d-2       [-1, 16, 26, 26, 26]              32\n",
            "              ReLU-3       [-1, 16, 26, 26, 26]               0\n",
            "            Conv3d-4       [-1, 16, 24, 24, 24]           6,928\n",
            "       BatchNorm3d-5       [-1, 16, 24, 24, 24]              32\n",
            "              ReLU-6       [-1, 16, 24, 24, 24]               0\n",
            "         MaxPool3d-7       [-1, 16, 12, 12, 12]               0\n",
            "            Conv3d-8       [-1, 64, 10, 10, 10]          27,712\n",
            "       BatchNorm3d-9       [-1, 64, 10, 10, 10]             128\n",
            "             ReLU-10       [-1, 64, 10, 10, 10]               0\n",
            "           Conv3d-11          [-1, 64, 8, 8, 8]         110,656\n",
            "      BatchNorm3d-12          [-1, 64, 8, 8, 8]             128\n",
            "             ReLU-13          [-1, 64, 8, 8, 8]               0\n",
            "           Conv3d-14          [-1, 64, 8, 8, 8]         110,656\n",
            "      BatchNorm3d-15          [-1, 64, 8, 8, 8]             128\n",
            "             ReLU-16          [-1, 64, 8, 8, 8]               0\n",
            "        MaxPool3d-17          [-1, 64, 4, 4, 4]               0\n",
            "           Linear-18                  [-1, 128]         524,416\n",
            "             ReLU-19                  [-1, 128]               0\n",
            "           Linear-20                  [-1, 128]          16,512\n",
            "             ReLU-21                  [-1, 128]               0\n",
            "           Linear-22                    [-1, 1]             129\n",
            "================================================================\n",
            "Total params: 797,905\n",
            "Trainable params: 797,905\n",
            "Non-trainable params: 0\n",
            "----------------------------------------------------------------\n",
            "Input size (MB): 0.08\n",
            "Forward/backward pass size (MB): 14.71\n",
            "Params size (MB): 3.04\n",
            "Estimated Total Size (MB): 17.84\n",
            "----------------------------------------------------------------\n"
          ]
        }
      ]
    },
    {
      "cell_type": "code",
      "source": [
        "def progress_bar(progress, total):\n",
        "    \"\"\"\n",
        "    A method to visualize the training progress by a progress bar\n",
        "\n",
        "    Parameters\n",
        "    ----------\n",
        "    progress: float\n",
        "        the current batch\n",
        "    total: float\n",
        "        the total number of batches\n",
        "    \"\"\"\n",
        "    percent = 50 * (progress / float(total))\n",
        "    bar = \"#\" * int(percent) + \"_\" * (50 - int(percent))\n",
        "    print(f\"\\r|{bar}| {2 * percent: .2f}%\", end=\" \")\n",
        "\n",
        "\n",
        "\n",
        "def train(train_loader, model, optimizer, criterion, EPOCH_NUM, validation_loader):\n",
        "    '''\n",
        "    Returns 2 lists,\n",
        "\n",
        "    * training loss values :train_loss_values,\n",
        "    *  validation loss values:  val_loss_values\n",
        "    '''\n",
        "    train_loss_values = []\n",
        "    val_loss_values = []\n",
        "    # Training loop\n",
        "\n",
        "    for epoch in range(EPOCH_NUM):\n",
        "        model.train()\n",
        "        batch_loss = 0.0\n",
        "        progress_bar(0, len(train_loader))\n",
        "\n",
        "        for batch_num, batch in enumerate(train_loader):\n",
        "            progress_bar(batch_num + 1, len(train_loader))\n",
        "            images, labels = batch\n",
        "            images, labels = images.to(device), labels.to(device)  # Move the data to the same device\n",
        "            images=images.float()\n",
        "\n",
        "            # Forward\n",
        "            outputs = model(images)\n",
        "            loss = criterion(outputs.float(), labels.float())\n",
        "\n",
        "            # Backward\n",
        "            optimizer.zero_grad()\n",
        "            loss.backward()\n",
        "            optimizer.step()\n",
        "\n",
        "            batch_loss += loss.item()\n",
        "\n",
        "        epoch_loss = batch_loss / len(train_loader)\n",
        "        train_loss_values.append(epoch_loss)\n",
        "\n",
        "        # Validation loop\n",
        "        model.eval()\n",
        "        val_batch_loss = 0.0\n",
        "        with torch.no_grad():\n",
        "            for val_images, val_labels in validation_loader:\n",
        "\n",
        "                val_images, val_labels = val_images.to(device,dtype=torch.float), val_labels.to(device, dtype=torch.float)  # Move validation data to the same device\n",
        "                val_outputs = model(val_images)\n",
        "\n",
        "                val_loss = criterion(val_outputs.float(), val_labels.float())\n",
        "                val_batch_loss += val_loss.item()\n",
        "\n",
        "            val_epoch_loss = val_batch_loss / len(validation_loader)\n",
        "            val_loss_values.append(val_epoch_loss)\n",
        "\n",
        "        if epoch % 1 == 0:\n",
        "            print(f\"Epoch [{epoch+1}/{EPOCH_NUM}], Training Loss: {epoch_loss:.5}, Validation Loss: {val_epoch_loss:.5}\")\n",
        "\n",
        "    return train_loss_values, val_loss_values\n",
        "\n",
        "\n",
        "def test(data_loader, model, criterion):\n",
        "    test_loss_values = []\n",
        "    predictions = []\n",
        "    actuals = []\n",
        "\n",
        "    model.eval()\n",
        "    with torch.no_grad():\n",
        "        for images, labels in data_loader:\n",
        "            images, labels = images.to(device), labels.to(device)\n",
        "            images=images.float()\n",
        "\n",
        "            outputs = model(images)\n",
        "            loss = criterion(outputs.float(), labels.float())\n",
        "            test_loss_values.append(loss.item())\n",
        "\n",
        "            predictions.extend(outputs.cpu().numpy())\n",
        "            actuals.extend(labels.cpu().numpy())\n",
        "\n",
        "    AUC = roc_auc_score(actuals, predictions)\n",
        "    ACC = accuracy_score(np.round(predictions), actuals)\n",
        "\n",
        "    return actuals ,predictions, AUC, ACC"
      ],
      "metadata": {
        "id": "eMP292jg9fN6"
      },
      "execution_count": null,
      "outputs": []
    },
    {
      "cell_type": "markdown",
      "source": [
        "# Training and Evaluation With learning Curves\n"
      ],
      "metadata": {
        "id": "YDR097UiAOFC"
      }
    },
    {
      "cell_type": "code",
      "source": [
        "train_loss, val_loss = train(train_loader, model, optimizer, criterion, EPOCH_NUM, validation_loader)\n",
        "\n",
        "\n",
        "# learning curves\n",
        "plt.figure()\n",
        "plt.plot(train_loss, label='Training Loss')\n",
        "plt.plot(val_loss, label='Validation Loss')\n",
        "plt.xlabel('Epochs')\n",
        "plt.ylabel('Loss')\n",
        "plt.title('Training and Validation Loss')\n",
        "plt.legend()\n",
        "plt.show()\n"
      ],
      "metadata": {
        "id": "0XW0umr9n1Mf",
        "colab": {
          "base_uri": "https://localhost:8080/",
          "height": 829
        },
        "outputId": "7a6d2e84-b222-498b-f34e-62bbab0bbe1d"
      },
      "execution_count": null,
      "outputs": [
        {
          "output_type": "stream",
          "name": "stdout",
          "text": [
            "|##################################################|  100.00% Epoch [1/20], Training Loss: 0.63185, Validation Loss: 0.68707\n",
            "|##################################################|  100.00% Epoch [2/20], Training Loss: 0.55672, Validation Loss: 0.62426\n",
            "|##################################################|  100.00% Epoch [3/20], Training Loss: 0.51279, Validation Loss: 0.54201\n",
            "|##################################################|  100.00% Epoch [4/20], Training Loss: 0.4756, Validation Loss: 0.48438\n",
            "|##################################################|  100.00% Epoch [5/20], Training Loss: 0.4459, Validation Loss: 0.45269\n",
            "|##################################################|  100.00% Epoch [6/20], Training Loss: 0.42042, Validation Loss: 0.42235\n",
            "|##################################################|  100.00% Epoch [7/20], Training Loss: 0.4046, Validation Loss: 0.4048\n",
            "|##################################################|  100.00% Epoch [8/20], Training Loss: 0.38955, Validation Loss: 0.39145\n",
            "|##################################################|  100.00% Epoch [9/20], Training Loss: 0.37237, Validation Loss: 0.37462\n",
            "|##################################################|  100.00% Epoch [10/20], Training Loss: 0.36462, Validation Loss: 0.36657\n",
            "|##################################################|  100.00% Epoch [11/20], Training Loss: 0.354, Validation Loss: 0.35959\n",
            "|##################################################|  100.00% Epoch [12/20], Training Loss: 0.33875, Validation Loss: 0.35491\n",
            "|##################################################|  100.00% Epoch [13/20], Training Loss: 0.33658, Validation Loss: 0.34888\n",
            "|##################################################|  100.00% Epoch [14/20], Training Loss: 0.3224, Validation Loss: 0.34357\n",
            "|##################################################|  100.00% Epoch [15/20], Training Loss: 0.31993, Validation Loss: 0.34036\n",
            "|##################################################|  100.00% Epoch [16/20], Training Loss: 0.3082, Validation Loss: 0.33839\n",
            "|##################################################|  100.00% Epoch [17/20], Training Loss: 0.29949, Validation Loss: 0.34015\n",
            "|##################################################|  100.00% Epoch [18/20], Training Loss: 0.29604, Validation Loss: 0.33611\n",
            "|##################################################|  100.00% Epoch [19/20], Training Loss: 0.28391, Validation Loss: 0.33197\n",
            "|##################################################|  100.00% Epoch [20/20], Training Loss: 0.27792, Validation Loss: 0.32852\n"
          ]
        },
        {
          "output_type": "display_data",
          "data": {
            "text/plain": [
              "<Figure size 640x480 with 1 Axes>"
            ],
            "image/png": "[encoded data removed]"
          },
          "metadata": {}
        }
      ]
    },
    {
      "cell_type": "code",
      "source": [
        "actuals_train, predictions_train, AUC_train, ACC_train = test(train_loader, model,criterion)\n",
        "actuals_val, predictions_val, AUC_val, ACC_val = test(validation_loader, model,criterion)\n",
        "\n",
        "\n",
        "print(f' Training --> AUC: {AUC_train:.3f}, ACC: {ACC_train:.3f}\\n')\n",
        "print(f' Validation --> AUC: {AUC_val:.3f}, ACC: {ACC_val:.3f}\\n')\n"
      ],
      "metadata": {
        "colab": {
          "base_uri": "https://localhost:8080/"
        },
        "id": "qZr1lEP0JHwz",
        "outputId": "a0cd521a-235f-4bc8-e966-7775c9d85320"
      },
      "execution_count": null,
      "outputs": [
        {
          "output_type": "stream",
          "name": "stdout",
          "text": [
            " Training --> AUC: 0.946, ACC: 0.890\n",
            "\n",
            " Validation --> AUC: 0.879, ACC: 0.848\n",
            "\n"
          ]
        }
      ]
    },
    {
      "cell_type": "markdown",
      "source": [
        "# Receiver Operating Characteristic (ROC) Curve\n",
        "\n",
        "An ROC curve (receiver operating characteristic curve) is a graph showing the performance of a classification model at all classification thresholds. [(Reference)](https://developers.google.com/machine-learning/crash-course/classification/roc-and-auc#:~:text=An%20ROC%20curve%20(receiver%20operating,True%20Positive%20Rate). This curve plots two parameters:\n",
        "\n",
        "*   True Positive Rate\n",
        "*   False Positive Rate\n",
        "\n",
        "\n"
      ],
      "metadata": {
        "id": "kawzwtEUDaSr"
      }
    },
    {
      "cell_type": "code",
      "source": [
        "fpr, tpr, thresholds = roc_curve(actuals_train, predictions_train)\n",
        "plt.figure()\n",
        "plt.plot(fpr, tpr, label='ROC curve')\n",
        "plt.plot([0, 1], [0, 1], 'k--', label='Random')\n",
        "plt.xlabel('False Positive Rate')\n",
        "plt.ylabel('True Positive Rate')\n",
        "plt.title('Receiver Operating Characteristic (ROC) Curve')\n",
        "plt.legend()\n",
        "plt.show()"
      ],
      "metadata": {
        "colab": {
          "base_uri": "https://localhost:8080/",
          "height": 472
        },
        "id": "NF6zREIMC0cR",
        "outputId": "9aea996e-fc54-45f8-d6ab-01a183deb14e"
      },
      "execution_count": null,
      "outputs": [
        {
          "output_type": "display_data",
          "data": {
            "text/plain": [
              "<Figure size 640x480 with 1 Axes>"
            ],
            "image/png": "[encoded data removed]"
          },
          "metadata": {}
        }
      ]
    },
    {
      "cell_type": "markdown",
      "source": [
        "# Results Visualization"
      ],
      "metadata": {
        "id": "h6ao89H5CHfv"
      }
    },
    {
      "cell_type": "code",
      "source": [
        "\n",
        "labels_map = {\n",
        "    0: \"benign\",\n",
        "    1: \"malignant\",\n",
        "}\n",
        "\n",
        "\n",
        "fig = plt.figure(figsize=(10, 10))\n",
        "for i in range(9):\n",
        "    index = np.random.randint(0, len(train_dataset))\n",
        "    plt.subplot(3, 3, i + 1)\n",
        "    plt.imshow(train_dataset[index][0][0].permute(1, 2, 0)[:,:,12],cmap = \"gray\")\n",
        "    plt.axis('off')\n",
        "    prediction = (0 if predictions_train[index] < .5 else 1)\n",
        "\n",
        "    plt.title(\"label: \"+str(labels_map[actuals_train[index][0]])+ \"\\n prediction: \"+ str(labels_map[prediction]),color=\"green\" if prediction == actuals_train[index] else \"red\" )"
      ],
      "metadata": {
        "colab": {
          "base_uri": "https://localhost:8080/",
          "height": 850
        },
        "id": "GfHHgE2nCG9l",
        "outputId": "0a8edbcf-974c-4574-bbba-66e1060b8780"
      },
      "execution_count": null,
      "outputs": [
        {
          "output_type": "display_data",
          "data": {
            "text/plain": [
              "<Figure size 1000x1000 with 9 Axes>"
            ],
            "image/png": "[encoded data removed]"
          },
          "metadata": {}
        }
      ]
    },
    {
      "cell_type": "markdown",
      "source": [
        "# Save the model"
      ],
      "metadata": {
        "id": "-CbdPUSqf2e4"
      }
    },
    {
      "cell_type": "code",
      "source": [
        "PATH = \"drive/MyDrive/nodule_3d/CNN_model\"\n",
        "# torch.save(model.state_dict(), PATH)\n"
      ],
      "metadata": {
        "id": "zxwa_v5DPoIM"
      },
      "execution_count": null,
      "outputs": []
    },
    {
      "cell_type": "markdown",
      "source": [
        "# Hyperparameter Tuning\n",
        "[reference](https://pytorch.org/tutorials/beginner/hyperparameter_tuning_tutorial.html)"
      ],
      "metadata": {
        "id": "OBMsvLzowK_-"
      }
    },
    {
      "cell_type": "code",
      "source": [
        "def train_nodule3d(config):\n",
        "    net = CNN_3D(in_channels=n_channels, num_classes=n_classes).to(device)\n",
        "    net.to(device)\n",
        "\n",
        "    criterion = nn.BCELoss()\n",
        "    optimizer = optim.SGD(net.parameters(), lr=config[\"lr\"], momentum=0.9)\n",
        "\n",
        "\n",
        "    checkpoint = session.get_checkpoint()\n",
        "\n",
        "\n",
        "    start_epoch = 0\n",
        "\n",
        "    trainloader = DataLoader(train_dataset, batch_size=config[\"batch_size\"], shuffle=True)  # shuffling is enabled in the training\n",
        "    valloader = DataLoader(validation_dataset, batch_size=config[\"batch_size\"], shuffle=False)\n",
        "\n",
        "    for epoch in range(start_epoch, 10):  # loop over the dataset multiple times\n",
        "        running_loss = 0.0\n",
        "        epoch_steps = 0\n",
        "        for i, data in enumerate(trainloader, 0):\n",
        "            # get the inputs; data is a list of [inputs, labels]\n",
        "            inputs, labels = data\n",
        "            inputs, labels = inputs.to(device), labels.to(device)\n",
        "            images=inputs.float()\n",
        "\n",
        "\n",
        "            # zero the parameter gradients\n",
        "            optimizer.zero_grad()\n",
        "\n",
        "            # forward + backward + optimize\n",
        "            outputs = net(inputs)\n",
        "            loss = criterion(outputs.float(), labels.float())\n",
        "            loss.backward()\n",
        "            optimizer.step()\n",
        "\n",
        "            # print statistics\n",
        "            running_loss += loss.item()\n",
        "            epoch_steps += 1\n",
        "\n",
        "\n",
        "        # Validation loss\n",
        "        val_loss = 0.0\n",
        "        val_steps = 0\n",
        "        for i, data in enumerate(valloader, 0):\n",
        "            with torch.no_grad():\n",
        "                inputs, labels = data\n",
        "                inputs, labels = inputs.to(device,dtype=torch.float), labels.to(device,dtype=torch.float)\n",
        "\n",
        "                outputs = net(inputs)\n",
        "\n",
        "                loss = criterion(outputs.float(), labels.float())\n",
        "                val_loss += loss.cpu().numpy()\n",
        "                val_steps += 1\n",
        "\n",
        "        checkpoint_data = {\n",
        "            \"epoch\": epoch,\n",
        "            \"net_state_dict\": net.state_dict(),\n",
        "            \"optimizer_state_dict\": optimizer.state_dict(),\n",
        "        }\n",
        "\n",
        "\n",
        "        session.report(\n",
        "            {\"loss\": val_loss / val_steps,},\n",
        "            checkpoint=checkpoint,\n",
        "        )\n",
        "    print(\"Finished Training\")\n",
        "\n",
        "\n"
      ],
      "metadata": {
        "id": "Se184XMakwAa"
      },
      "execution_count": null,
      "outputs": []
    },
    {
      "cell_type": "code",
      "source": [
        "config = {\n",
        "\n",
        "    \"lr\": tune.loguniform(1e-4, 1e-1),\n",
        "    \"batch_size\": tune.choice([16, 32, 64, 128])\n",
        "}\n",
        "\n",
        "result = tune.run(train_nodule3d,\n",
        "    config=config,\n",
        "    num_samples=5,\n",
        "    resources_per_trial={\"cpu\": 2, \"gpu\": 1}\n",
        "    )\n",
        "\n"
      ],
      "metadata": {
        "colab": {
          "base_uri": "https://localhost:8080/"
        },
        "id": "hfVS5CJ0hfmT",
        "outputId": "d9e804bd-87ef-4525-a6bf-f5217e24ead8"
      },
      "execution_count": null,
      "outputs": [
        {
          "output_type": "stream",
          "name": "stderr",
          "text": [
            "2023-11-13 18:21:11,793\tINFO tune.py:595 -- [output] This will use the new output engine with verbosity 2. To disable the new output and use the legacy output engine, set the environment variable RAY_AIR_NEW_OUTPUT=0. For more information, please see https://github.com/ray-project/ray/issues/36949\n",
            "2023-11-13 18:21:11,914\tWARNING callback.py:137 -- The TensorboardX logger cannot be instantiated because either TensorboardX or one of it's dependencies is not installed. Please make sure you have the latest version of TensorboardX installed: `pip install -U tensorboardx`\n"
          ]
        },
        {
          "output_type": "stream",
          "name": "stdout",
          "text": [
            "+-----------------------------------------------------------------------+\n",
            "| Configuration for experiment     train_nodule3d_2023-11-13_18-21-11   |\n",
            "+-----------------------------------------------------------------------+\n",
            "| Search algorithm                 BasicVariantGenerator                |\n",
            "| Scheduler                        FIFOScheduler                        |\n",
            "| Number of trials                 5                                    |\n",
            "+-----------------------------------------------------------------------+\n",
            "\n",
            "View detailed results here: /root/ray_results/train_nodule3d_2023-11-13_18-21-11\n",
            "\n",
            "Trial status: 5 PENDING\n",
            "Current time: 2023-11-13 18:21:14. Total running time: 2s\n",
            "Logical resource usage: 0/2 CPUs, 0/1 GPUs\n",
            "+--------------------------------------------------------------------+\n",
            "| Trial name                   status              lr     batch_size |\n",
            "+--------------------------------------------------------------------+\n",
            "| train_nodule3d_6c7cc_00000   PENDING    0.012487                32 |\n",
            "| train_nodule3d_6c7cc_00001   PENDING    0.000333336             32 |\n",
            "| train_nodule3d_6c7cc_00002   PENDING    0.0359727               16 |\n",
            "| train_nodule3d_6c7cc_00003   PENDING    0.06343                128 |\n",
            "| train_nodule3d_6c7cc_00004   PENDING    0.00550379              16 |\n",
            "+--------------------------------------------------------------------+\n"
          ]
        },
        {
          "output_type": "stream",
          "name": "stderr",
          "text": [
            "2023-11-13 18:21:14,247\tWARNING worker.py:2074 -- Warning: The actor ImplicitFunc is very large (55 MiB). Check that its definition is not implicitly capturing a large array or other object in scope. Tip: use ray.put() to put large objects in the Ray object store.\n",
            "\u001b[36m(pid=18102)\u001b[0m 2023-11-13 18:21:24.039460: E tensorflow/compiler/xla/stream_executor/cuda/cuda_dnn.cc:9342] Unable to register cuDNN factory: Attempting to register factory for plugin cuDNN when one has already been registered\n",
            "\u001b[36m(pid=18102)\u001b[0m 2023-11-13 18:21:24.039936: E tensorflow/compiler/xla/stream_executor/cuda/cuda_fft.cc:609] Unable to register cuFFT factory: Attempting to register factory for plugin cuFFT when one has already been registered\n",
            "\u001b[36m(pid=18102)\u001b[0m 2023-11-13 18:21:24.039995: E tensorflow/compiler/xla/stream_executor/cuda/cuda_blas.cc:1518] Unable to register cuBLAS factory: Attempting to register factory for plugin cuBLAS when one has already been registered\n",
            "\u001b[36m(pid=18102)\u001b[0m 2023-11-13 18:21:25.579062: W tensorflow/compiler/tf2tensorrt/utils/py_utils.cc:38] TF-TRT Warning: Could not find TensorRT\n"
          ]
        },
        {
          "output_type": "stream",
          "name": "stdout",
          "text": [
            "\n",
            "Trial train_nodule3d_6c7cc_00000 started with configuration:\n",
            "+-----------------------------------------------------+\n",
            "| Trial train_nodule3d_6c7cc_00000 config             |\n",
            "+-----------------------------------------------------+\n",
            "| batch_size                                       32 |\n",
            "| lr                                          0.01249 |\n",
            "+-----------------------------------------------------+\n",
            "\n",
            "Trial train_nodule3d_6c7cc_00000 finished iteration 1 at 2023-11-13 18:21:29. Total running time: 17s\n",
            "+-----------------------------------------------------+\n",
            "| Trial train_nodule3d_6c7cc_00000 result             |\n",
            "+-----------------------------------------------------+\n",
            "| checkpoint_dir_name                                 |\n",
            "| time_this_iter_s                            2.69947 |\n",
            "| time_total_s                                2.69947 |\n",
            "| training_iteration                                1 |\n",
            "| loss                                        0.35293 |\n",
            "+-----------------------------------------------------+\n",
            "\n",
            "Trial train_nodule3d_6c7cc_00000 finished iteration 2 at 2023-11-13 18:21:31. Total running time: 19s\n",
            "+-----------------------------------------------------+\n",
            "| Trial train_nodule3d_6c7cc_00000 result             |\n",
            "+-----------------------------------------------------+\n",
            "| checkpoint_dir_name                                 |\n",
            "| time_this_iter_s                            2.05899 |\n",
            "| time_total_s                                4.75845 |\n",
            "| training_iteration                                2 |\n",
            "| loss                                        0.29392 |\n",
            "+-----------------------------------------------------+\n",
            "\n",
            "Trial train_nodule3d_6c7cc_00000 finished iteration 3 at 2023-11-13 18:21:33. Total running time: 21s\n",
            "+-----------------------------------------------------+\n",
            "| Trial train_nodule3d_6c7cc_00000 result             |\n",
            "+-----------------------------------------------------+\n",
            "| checkpoint_dir_name                                 |\n",
            "| time_this_iter_s                            2.04637 |\n",
            "| time_total_s                                6.80482 |\n",
            "| training_iteration                                3 |\n",
            "| loss                                        0.32479 |\n",
            "+-----------------------------------------------------+\n",
            "\n",
            "Trial train_nodule3d_6c7cc_00000 finished iteration 4 at 2023-11-13 18:21:35. Total running time: 23s\n",
            "+-----------------------------------------------------+\n",
            "| Trial train_nodule3d_6c7cc_00000 result             |\n",
            "+-----------------------------------------------------+\n",
            "| checkpoint_dir_name                                 |\n",
            "| time_this_iter_s                            2.18669 |\n",
            "| time_total_s                                8.99151 |\n",
            "| training_iteration                                4 |\n",
            "| loss                                        0.37779 |\n",
            "+-----------------------------------------------------+\n",
            "\n",
            "Trial train_nodule3d_6c7cc_00000 finished iteration 5 at 2023-11-13 18:21:38. Total running time: 26s\n",
            "+-----------------------------------------------------+\n",
            "| Trial train_nodule3d_6c7cc_00000 result             |\n",
            "+-----------------------------------------------------+\n",
            "| checkpoint_dir_name                                 |\n",
            "| time_this_iter_s                            2.54598 |\n",
            "| time_total_s                                11.5375 |\n",
            "| training_iteration                                5 |\n",
            "| loss                                        0.34454 |\n",
            "+-----------------------------------------------------+\n",
            "\n",
            "Trial train_nodule3d_6c7cc_00000 finished iteration 6 at 2023-11-13 18:21:40. Total running time: 28s\n",
            "+-----------------------------------------------------+\n",
            "| Trial train_nodule3d_6c7cc_00000 result             |\n",
            "+-----------------------------------------------------+\n",
            "| checkpoint_dir_name                                 |\n",
            "| time_this_iter_s                            2.68959 |\n",
            "| time_total_s                                14.2271 |\n",
            "| training_iteration                                6 |\n",
            "| loss                                        0.33164 |\n",
            "+-----------------------------------------------------+\n",
            "\n",
            "Trial train_nodule3d_6c7cc_00000 finished iteration 7 at 2023-11-13 18:21:43. Total running time: 31s\n",
            "+-----------------------------------------------------+\n",
            "| Trial train_nodule3d_6c7cc_00000 result             |\n",
            "+-----------------------------------------------------+\n",
            "| checkpoint_dir_name                                 |\n",
            "| time_this_iter_s                            2.62225 |\n",
            "| time_total_s                                16.8493 |\n",
            "| training_iteration                                7 |\n",
            "| loss                                        0.35552 |\n",
            "+-----------------------------------------------------+\n",
            "\n",
            "Trial status: 1 RUNNING | 4 PENDING\n",
            "Current time: 2023-11-13 18:21:44. Total running time: 32s\n",
            "Logical resource usage: 2.0/2 CPUs, 1.0/1 GPUs\n",
            "+-----------------------------------------------------------------------------------------------------------+\n",
            "| Trial name                   status              lr     batch_size     iter     total time (s)       loss |\n",
            "+-----------------------------------------------------------------------------------------------------------+\n",
            "| train_nodule3d_6c7cc_00000   RUNNING    0.012487                32        7            16.8493   0.355518 |\n",
            "| train_nodule3d_6c7cc_00001   PENDING    0.000333336             32                                        |\n",
            "| train_nodule3d_6c7cc_00002   PENDING    0.0359727               16                                        |\n",
            "| train_nodule3d_6c7cc_00003   PENDING    0.06343                128                                        |\n",
            "| train_nodule3d_6c7cc_00004   PENDING    0.00550379              16                                        |\n",
            "+-----------------------------------------------------------------------------------------------------------+\n",
            "\n",
            "Trial train_nodule3d_6c7cc_00000 finished iteration 8 at 2023-11-13 18:21:45. Total running time: 33s\n",
            "+-----------------------------------------------------+\n",
            "| Trial train_nodule3d_6c7cc_00000 result             |\n",
            "+-----------------------------------------------------+\n",
            "| checkpoint_dir_name                                 |\n",
            "| time_this_iter_s                            2.09355 |\n",
            "| time_total_s                                18.9429 |\n",
            "| training_iteration                                8 |\n",
            "| loss                                         0.3137 |\n",
            "+-----------------------------------------------------+\n",
            "\n",
            "Trial train_nodule3d_6c7cc_00000 finished iteration 9 at 2023-11-13 18:21:47. Total running time: 35s\n",
            "+-----------------------------------------------------+\n",
            "| Trial train_nodule3d_6c7cc_00000 result             |\n",
            "+-----------------------------------------------------+\n",
            "| checkpoint_dir_name                                 |\n",
            "| time_this_iter_s                            2.02223 |\n",
            "| time_total_s                                20.9651 |\n",
            "| training_iteration                                9 |\n",
            "| loss                                        0.36332 |\n",
            "+-----------------------------------------------------+\n",
            "\n",
            "Trial train_nodule3d_6c7cc_00000 finished iteration 10 at 2023-11-13 18:21:49. Total running time: 37s\n",
            "+-----------------------------------------------------+\n",
            "| Trial train_nodule3d_6c7cc_00000 result             |\n",
            "+-----------------------------------------------------+\n",
            "| checkpoint_dir_name                                 |\n",
            "| time_this_iter_s                            2.05472 |\n",
            "| time_total_s                                23.0198 |\n",
            "| training_iteration                               10 |\n",
            "| loss                                          0.349 |\n",
            "+-----------------------------------------------------+\n",
            "\n",
            "Trial train_nodule3d_6c7cc_00000 completed after 10 iterations at 2023-11-13 18:21:49. Total running time: 37s\n",
            "\u001b[36m(train_nodule3d pid=18102)\u001b[0m Finished Training\n"
          ]
        },
        {
          "output_type": "stream",
          "name": "stderr",
          "text": [
            "\u001b[36m(pid=18319)\u001b[0m 2023-11-13 18:22:00.438033: E tensorflow/compiler/xla/stream_executor/cuda/cuda_dnn.cc:9342] Unable to register cuDNN factory: Attempting to register factory for plugin cuDNN when one has already been registered\n",
            "\u001b[36m(pid=18319)\u001b[0m 2023-11-13 18:22:00.438089: E tensorflow/compiler/xla/stream_executor/cuda/cuda_fft.cc:609] Unable to register cuFFT factory: Attempting to register factory for plugin cuFFT when one has already been registered\n",
            "\u001b[36m(pid=18319)\u001b[0m 2023-11-13 18:22:00.438115: E tensorflow/compiler/xla/stream_executor/cuda/cuda_blas.cc:1518] Unable to register cuBLAS factory: Attempting to register factory for plugin cuBLAS when one has already been registered\n",
            "\u001b[36m(pid=18319)\u001b[0m 2023-11-13 18:22:01.748873: W tensorflow/compiler/tf2tensorrt/utils/py_utils.cc:38] TF-TRT Warning: Could not find TensorRT\n"
          ]
        },
        {
          "output_type": "stream",
          "name": "stdout",
          "text": [
            "\n",
            "Trial train_nodule3d_6c7cc_00001 started with configuration:\n",
            "+-----------------------------------------------------+\n",
            "| Trial train_nodule3d_6c7cc_00001 config             |\n",
            "+-----------------------------------------------------+\n",
            "| batch_size                                       32 |\n",
            "| lr                                          0.00033 |\n",
            "+-----------------------------------------------------+\n",
            "\n",
            "Trial train_nodule3d_6c7cc_00001 finished iteration 1 at 2023-11-13 18:22:05. Total running time: 53s\n",
            "+-----------------------------------------------------+\n",
            "| Trial train_nodule3d_6c7cc_00001 result             |\n",
            "+-----------------------------------------------------+\n",
            "| checkpoint_dir_name                                 |\n",
            "| time_this_iter_s                            2.74564 |\n",
            "| time_total_s                                2.74564 |\n",
            "| training_iteration                                1 |\n",
            "| loss                                        0.56904 |\n",
            "+-----------------------------------------------------+\n",
            "\n",
            "Trial train_nodule3d_6c7cc_00001 finished iteration 2 at 2023-11-13 18:22:08. Total running time: 56s\n",
            "+-----------------------------------------------------+\n",
            "| Trial train_nodule3d_6c7cc_00001 result             |\n",
            "+-----------------------------------------------------+\n",
            "| checkpoint_dir_name                                 |\n",
            "| time_this_iter_s                            3.01801 |\n",
            "| time_total_s                                5.76365 |\n",
            "| training_iteration                                2 |\n",
            "| loss                                        0.47041 |\n",
            "+-----------------------------------------------------+\n",
            "\n",
            "Trial train_nodule3d_6c7cc_00001 finished iteration 3 at 2023-11-13 18:22:10. Total running time: 58s\n",
            "+-----------------------------------------------------+\n",
            "| Trial train_nodule3d_6c7cc_00001 result             |\n",
            "+-----------------------------------------------------+\n",
            "| checkpoint_dir_name                                 |\n",
            "| time_this_iter_s                            2.17689 |\n",
            "| time_total_s                                7.94054 |\n",
            "| training_iteration                                3 |\n",
            "| loss                                        0.40604 |\n",
            "+-----------------------------------------------------+\n",
            "\n",
            "Trial train_nodule3d_6c7cc_00001 finished iteration 4 at 2023-11-13 18:22:13. Total running time: 1min 1s\n",
            "+-----------------------------------------------------+\n",
            "| Trial train_nodule3d_6c7cc_00001 result             |\n",
            "+-----------------------------------------------------+\n",
            "| checkpoint_dir_name                                 |\n",
            "| time_this_iter_s                            2.49159 |\n",
            "| time_total_s                                10.4321 |\n",
            "| training_iteration                                4 |\n",
            "| loss                                        0.37121 |\n",
            "+-----------------------------------------------------+\n",
            "\n",
            "Trial status: 1 TERMINATED | 1 RUNNING | 3 PENDING\n",
            "Current time: 2023-11-13 18:22:14. Total running time: 1min 2s\n",
            "Logical resource usage: 2.0/2 CPUs, 1.0/1 GPUs\n",
            "+-------------------------------------------------------------------------------------------------------------+\n",
            "| Trial name                   status                lr     batch_size     iter     total time (s)       loss |\n",
            "+-------------------------------------------------------------------------------------------------------------+\n",
            "| train_nodule3d_6c7cc_00001   RUNNING      0.000333336             32        4            10.4321   0.371214 |\n",
            "| train_nodule3d_6c7cc_00000   TERMINATED   0.012487                32       10            23.0198   0.348995 |\n",
            "| train_nodule3d_6c7cc_00002   PENDING      0.0359727               16                                        |\n",
            "| train_nodule3d_6c7cc_00003   PENDING      0.06343                128                                        |\n",
            "| train_nodule3d_6c7cc_00004   PENDING      0.00550379              16                                        |\n",
            "+-------------------------------------------------------------------------------------------------------------+\n",
            "\n",
            "Trial train_nodule3d_6c7cc_00001 finished iteration 5 at 2023-11-13 18:22:15. Total running time: 1min 3s\n",
            "+-----------------------------------------------------+\n",
            "| Trial train_nodule3d_6c7cc_00001 result             |\n",
            "+-----------------------------------------------------+\n",
            "| checkpoint_dir_name                                 |\n",
            "| time_this_iter_s                            2.53645 |\n",
            "| time_total_s                                12.9686 |\n",
            "| training_iteration                                5 |\n",
            "| loss                                        0.35363 |\n",
            "+-----------------------------------------------------+\n",
            "\n",
            "Trial train_nodule3d_6c7cc_00001 finished iteration 6 at 2023-11-13 18:22:18. Total running time: 1min 6s\n",
            "+-----------------------------------------------------+\n",
            "| Trial train_nodule3d_6c7cc_00001 result             |\n",
            "+-----------------------------------------------------+\n",
            "| checkpoint_dir_name                                 |\n",
            "| time_this_iter_s                            2.67359 |\n",
            "| time_total_s                                15.6422 |\n",
            "| training_iteration                                6 |\n",
            "| loss                                        0.33766 |\n",
            "+-----------------------------------------------------+\n",
            "\n",
            "Trial train_nodule3d_6c7cc_00001 finished iteration 7 at 2023-11-13 18:22:20. Total running time: 1min 8s\n",
            "+-----------------------------------------------------+\n",
            "| Trial train_nodule3d_6c7cc_00001 result             |\n",
            "+-----------------------------------------------------+\n",
            "| checkpoint_dir_name                                 |\n",
            "| time_this_iter_s                            2.07738 |\n",
            "| time_total_s                                17.7196 |\n",
            "| training_iteration                                7 |\n",
            "| loss                                        0.34587 |\n",
            "+-----------------------------------------------------+\n",
            "\n",
            "Trial train_nodule3d_6c7cc_00001 finished iteration 8 at 2023-11-13 18:22:22. Total running time: 1min 10s\n",
            "+-----------------------------------------------------+\n",
            "| Trial train_nodule3d_6c7cc_00001 result             |\n",
            "+-----------------------------------------------------+\n",
            "| checkpoint_dir_name                                 |\n",
            "| time_this_iter_s                            2.09761 |\n",
            "| time_total_s                                19.8172 |\n",
            "| training_iteration                                8 |\n",
            "| loss                                         0.3334 |\n",
            "+-----------------------------------------------------+\n",
            "\n",
            "Trial train_nodule3d_6c7cc_00001 finished iteration 9 at 2023-11-13 18:22:24. Total running time: 1min 12s\n",
            "+-----------------------------------------------------+\n",
            "| Trial train_nodule3d_6c7cc_00001 result             |\n",
            "+-----------------------------------------------------+\n",
            "| checkpoint_dir_name                                 |\n",
            "| time_this_iter_s                            2.08279 |\n",
            "| time_total_s                                   21.9 |\n",
            "| training_iteration                                9 |\n",
            "| loss                                        0.33529 |\n",
            "+-----------------------------------------------------+\n",
            "\n",
            "Trial train_nodule3d_6c7cc_00001 finished iteration 10 at 2023-11-13 18:22:26. Total running time: 1min 14s\n",
            "+-----------------------------------------------------+\n",
            "| Trial train_nodule3d_6c7cc_00001 result             |\n",
            "+-----------------------------------------------------+\n",
            "| checkpoint_dir_name                                 |\n",
            "| time_this_iter_s                            2.06744 |\n",
            "| time_total_s                                23.9674 |\n",
            "| training_iteration                               10 |\n",
            "| loss                                        0.32722 |\n",
            "+-----------------------------------------------------+\n",
            "\n",
            "Trial train_nodule3d_6c7cc_00001 completed after 10 iterations at 2023-11-13 18:22:26. Total running time: 1min 14s\n",
            "\u001b[36m(train_nodule3d pid=18319)\u001b[0m Finished Training\n"
          ]
        },
        {
          "output_type": "stream",
          "name": "stderr",
          "text": [
            "\u001b[36m(pid=18537)\u001b[0m 2023-11-13 18:22:37.065332: E tensorflow/compiler/xla/stream_executor/cuda/cuda_dnn.cc:9342] Unable to register cuDNN factory: Attempting to register factory for plugin cuDNN when one has already been registered\n",
            "\u001b[36m(pid=18537)\u001b[0m 2023-11-13 18:22:37.065386: E tensorflow/compiler/xla/stream_executor/cuda/cuda_fft.cc:609] Unable to register cuFFT factory: Attempting to register factory for plugin cuFFT when one has already been registered\n",
            "\u001b[36m(pid=18537)\u001b[0m 2023-11-13 18:22:37.065411: E tensorflow/compiler/xla/stream_executor/cuda/cuda_blas.cc:1518] Unable to register cuBLAS factory: Attempting to register factory for plugin cuBLAS when one has already been registered\n",
            "\u001b[36m(pid=18537)\u001b[0m 2023-11-13 18:22:38.328853: W tensorflow/compiler/tf2tensorrt/utils/py_utils.cc:38] TF-TRT Warning: Could not find TensorRT\n"
          ]
        },
        {
          "output_type": "stream",
          "name": "stdout",
          "text": [
            "\n",
            "Trial train_nodule3d_6c7cc_00002 started with configuration:\n",
            "+-----------------------------------------------------+\n",
            "| Trial train_nodule3d_6c7cc_00002 config             |\n",
            "+-----------------------------------------------------+\n",
            "| batch_size                                       16 |\n",
            "| lr                                          0.03597 |\n",
            "+-----------------------------------------------------+\n",
            "\n",
            "Trial train_nodule3d_6c7cc_00002 finished iteration 1 at 2023-11-13 18:22:42. Total running time: 1min 30s\n",
            "+-----------------------------------------------------+\n",
            "| Trial train_nodule3d_6c7cc_00002 result             |\n",
            "+-----------------------------------------------------+\n",
            "| checkpoint_dir_name                                 |\n",
            "| time_this_iter_s                            2.83001 |\n",
            "| time_total_s                                2.83001 |\n",
            "| training_iteration                                1 |\n",
            "| loss                                        0.55447 |\n",
            "+-----------------------------------------------------+\n",
            "\n",
            "Trial status: 2 TERMINATED | 1 RUNNING | 2 PENDING\n",
            "Current time: 2023-11-13 18:22:44. Total running time: 1min 32s\n",
            "Logical resource usage: 2.0/2 CPUs, 1.0/1 GPUs\n",
            "+-------------------------------------------------------------------------------------------------------------+\n",
            "| Trial name                   status                lr     batch_size     iter     total time (s)       loss |\n",
            "+-------------------------------------------------------------------------------------------------------------+\n",
            "| train_nodule3d_6c7cc_00002   RUNNING      0.0359727               16        1            2.83001   0.55447  |\n",
            "| train_nodule3d_6c7cc_00000   TERMINATED   0.012487                32       10           23.0198    0.348995 |\n",
            "| train_nodule3d_6c7cc_00001   TERMINATED   0.000333336             32       10           23.9674    0.327224 |\n",
            "| train_nodule3d_6c7cc_00003   PENDING      0.06343                128                                        |\n",
            "| train_nodule3d_6c7cc_00004   PENDING      0.00550379              16                                        |\n",
            "+-------------------------------------------------------------------------------------------------------------+\n",
            "\n",
            "Trial train_nodule3d_6c7cc_00002 finished iteration 2 at 2023-11-13 18:22:44. Total running time: 1min 32s\n",
            "+-----------------------------------------------------+\n",
            "| Trial train_nodule3d_6c7cc_00002 result             |\n",
            "+-----------------------------------------------------+\n",
            "| checkpoint_dir_name                                 |\n",
            "| time_this_iter_s                            2.18041 |\n",
            "| time_total_s                                5.01042 |\n",
            "| training_iteration                                2 |\n",
            "| loss                                         0.3832 |\n",
            "+-----------------------------------------------------+\n",
            "\n",
            "Trial train_nodule3d_6c7cc_00002 finished iteration 3 at 2023-11-13 18:22:46. Total running time: 1min 34s\n",
            "+-----------------------------------------------------+\n",
            "| Trial train_nodule3d_6c7cc_00002 result             |\n",
            "+-----------------------------------------------------+\n",
            "| checkpoint_dir_name                                 |\n",
            "| time_this_iter_s                            2.39199 |\n",
            "| time_total_s                                7.40242 |\n",
            "| training_iteration                                3 |\n",
            "| loss                                        0.40925 |\n",
            "+-----------------------------------------------------+\n",
            "\n",
            "Trial train_nodule3d_6c7cc_00002 finished iteration 4 at 2023-11-13 18:22:50. Total running time: 1min 38s\n",
            "+-----------------------------------------------------+\n",
            "| Trial train_nodule3d_6c7cc_00002 result             |\n",
            "+-----------------------------------------------------+\n",
            "| checkpoint_dir_name                                 |\n",
            "| time_this_iter_s                            3.59113 |\n",
            "| time_total_s                                10.9935 |\n",
            "| training_iteration                                4 |\n",
            "| loss                                        0.36099 |\n",
            "+-----------------------------------------------------+\n",
            "\n",
            "Trial train_nodule3d_6c7cc_00002 finished iteration 5 at 2023-11-13 18:22:53. Total running time: 1min 41s\n",
            "+-----------------------------------------------------+\n",
            "| Trial train_nodule3d_6c7cc_00002 result             |\n",
            "+-----------------------------------------------------+\n",
            "| checkpoint_dir_name                                 |\n",
            "| time_this_iter_s                            2.87133 |\n",
            "| time_total_s                                13.8649 |\n",
            "| training_iteration                                5 |\n",
            "| loss                                         0.3392 |\n",
            "+-----------------------------------------------------+\n",
            "\n",
            "Trial train_nodule3d_6c7cc_00002 finished iteration 6 at 2023-11-13 18:22:55. Total running time: 1min 43s\n",
            "+-----------------------------------------------------+\n",
            "| Trial train_nodule3d_6c7cc_00002 result             |\n",
            "+-----------------------------------------------------+\n",
            "| checkpoint_dir_name                                 |\n",
            "| time_this_iter_s                            2.20008 |\n",
            "| time_total_s                                16.0649 |\n",
            "| training_iteration                                6 |\n",
            "| loss                                        0.45787 |\n",
            "+-----------------------------------------------------+\n",
            "\n",
            "Trial train_nodule3d_6c7cc_00002 finished iteration 7 at 2023-11-13 18:22:57. Total running time: 1min 45s\n",
            "+-----------------------------------------------------+\n",
            "| Trial train_nodule3d_6c7cc_00002 result             |\n",
            "+-----------------------------------------------------+\n",
            "| checkpoint_dir_name                                 |\n",
            "| time_this_iter_s                            2.08433 |\n",
            "| time_total_s                                18.1493 |\n",
            "| training_iteration                                7 |\n",
            "| loss                                        0.40139 |\n",
            "+-----------------------------------------------------+\n",
            "\n",
            "Trial train_nodule3d_6c7cc_00002 finished iteration 8 at 2023-11-13 18:22:59. Total running time: 1min 47s\n",
            "+-----------------------------------------------------+\n",
            "| Trial train_nodule3d_6c7cc_00002 result             |\n",
            "+-----------------------------------------------------+\n",
            "| checkpoint_dir_name                                 |\n",
            "| time_this_iter_s                            2.10568 |\n",
            "| time_total_s                                 20.255 |\n",
            "| training_iteration                                8 |\n",
            "| loss                                        0.40305 |\n",
            "+-----------------------------------------------------+\n",
            "\n",
            "Trial train_nodule3d_6c7cc_00002 finished iteration 9 at 2023-11-13 18:23:01. Total running time: 1min 49s\n",
            "+-----------------------------------------------------+\n",
            "| Trial train_nodule3d_6c7cc_00002 result             |\n",
            "+-----------------------------------------------------+\n",
            "| checkpoint_dir_name                                 |\n",
            "| time_this_iter_s                            2.15126 |\n",
            "| time_total_s                                22.4062 |\n",
            "| training_iteration                                9 |\n",
            "| loss                                         0.4131 |\n",
            "+-----------------------------------------------------+\n",
            "\n",
            "Trial train_nodule3d_6c7cc_00002 finished iteration 10 at 2023-11-13 18:23:04. Total running time: 1min 52s\n",
            "+-----------------------------------------------------+\n",
            "| Trial train_nodule3d_6c7cc_00002 result             |\n",
            "+-----------------------------------------------------+\n",
            "| checkpoint_dir_name                                 |\n",
            "| time_this_iter_s                            2.29746 |\n",
            "| time_total_s                                24.7037 |\n",
            "| training_iteration                               10 |\n",
            "| loss                                        0.43374 |\n",
            "+-----------------------------------------------------+\n",
            "\n",
            "Trial train_nodule3d_6c7cc_00002 completed after 10 iterations at 2023-11-13 18:23:04. Total running time: 1min 52s\n",
            "\u001b[36m(train_nodule3d pid=18537)\u001b[0m Finished Training\n"
          ]
        },
        {
          "output_type": "stream",
          "name": "stderr",
          "text": [
            "\u001b[36m(pid=18757)\u001b[0m 2023-11-13 18:23:14.146269: E tensorflow/compiler/xla/stream_executor/cuda/cuda_dnn.cc:9342] Unable to register cuDNN factory: Attempting to register factory for plugin cuDNN when one has already been registered\n",
            "\u001b[36m(pid=18757)\u001b[0m 2023-11-13 18:23:14.146320: E tensorflow/compiler/xla/stream_executor/cuda/cuda_fft.cc:609] Unable to register cuFFT factory: Attempting to register factory for plugin cuFFT when one has already been registered\n",
            "\u001b[36m(pid=18757)\u001b[0m 2023-11-13 18:23:14.146350: E tensorflow/compiler/xla/stream_executor/cuda/cuda_blas.cc:1518] Unable to register cuBLAS factory: Attempting to register factory for plugin cuBLAS when one has already been registered\n"
          ]
        },
        {
          "output_type": "stream",
          "name": "stdout",
          "text": [
            "\n",
            "Trial status: 3 TERMINATED | 2 PENDING\n",
            "Current time: 2023-11-13 18:23:14. Total running time: 2min 2s\n",
            "Logical resource usage: 2.0/2 CPUs, 1.0/1 GPUs\n",
            "+-------------------------------------------------------------------------------------------------------------+\n",
            "| Trial name                   status                lr     batch_size     iter     total time (s)       loss |\n",
            "+-------------------------------------------------------------------------------------------------------------+\n",
            "| train_nodule3d_6c7cc_00000   TERMINATED   0.012487                32       10            23.0198   0.348995 |\n",
            "| train_nodule3d_6c7cc_00001   TERMINATED   0.000333336             32       10            23.9674   0.327224 |\n",
            "| train_nodule3d_6c7cc_00002   TERMINATED   0.0359727               16       10            24.7037   0.433742 |\n",
            "| train_nodule3d_6c7cc_00003   PENDING      0.06343                128                                        |\n",
            "| train_nodule3d_6c7cc_00004   PENDING      0.00550379              16                                        |\n",
            "+-------------------------------------------------------------------------------------------------------------+\n"
          ]
        },
        {
          "output_type": "stream",
          "name": "stderr",
          "text": [
            "\u001b[36m(pid=18757)\u001b[0m 2023-11-13 18:23:15.396597: W tensorflow/compiler/tf2tensorrt/utils/py_utils.cc:38] TF-TRT Warning: Could not find TensorRT\n"
          ]
        },
        {
          "output_type": "stream",
          "name": "stdout",
          "text": [
            "\n",
            "Trial train_nodule3d_6c7cc_00003 started with configuration:\n",
            "+-----------------------------------------------------+\n",
            "| Trial train_nodule3d_6c7cc_00003 config             |\n",
            "+-----------------------------------------------------+\n",
            "| batch_size                                      128 |\n",
            "| lr                                          0.06343 |\n",
            "+-----------------------------------------------------+\n",
            "\n",
            "Trial train_nodule3d_6c7cc_00003 finished iteration 1 at 2023-11-13 18:23:19. Total running time: 2min 7s\n",
            "+-----------------------------------------------------+\n",
            "| Trial train_nodule3d_6c7cc_00003 result             |\n",
            "+-----------------------------------------------------+\n",
            "| checkpoint_dir_name                                 |\n",
            "| time_this_iter_s                            2.73226 |\n",
            "| time_total_s                                2.73226 |\n",
            "| training_iteration                                1 |\n",
            "| loss                                        0.42196 |\n",
            "+-----------------------------------------------------+\n",
            "\n",
            "Trial train_nodule3d_6c7cc_00003 finished iteration 2 at 2023-11-13 18:23:21. Total running time: 2min 9s\n",
            "+-----------------------------------------------------+\n",
            "| Trial train_nodule3d_6c7cc_00003 result             |\n",
            "+-----------------------------------------------------+\n",
            "| checkpoint_dir_name                                 |\n",
            "| time_this_iter_s                            2.13883 |\n",
            "| time_total_s                                 4.8711 |\n",
            "| training_iteration                                2 |\n",
            "| loss                                        0.34798 |\n",
            "+-----------------------------------------------------+\n",
            "\n",
            "Trial train_nodule3d_6c7cc_00003 finished iteration 3 at 2023-11-13 18:23:23. Total running time: 2min 11s\n",
            "+-----------------------------------------------------+\n",
            "| Trial train_nodule3d_6c7cc_00003 result             |\n",
            "+-----------------------------------------------------+\n",
            "| checkpoint_dir_name                                 |\n",
            "| time_this_iter_s                            2.56519 |\n",
            "| time_total_s                                7.43629 |\n",
            "| training_iteration                                3 |\n",
            "| loss                                        0.40482 |\n",
            "+-----------------------------------------------------+\n",
            "\n",
            "Trial train_nodule3d_6c7cc_00003 finished iteration 4 at 2023-11-13 18:23:26. Total running time: 2min 14s\n",
            "+-----------------------------------------------------+\n",
            "| Trial train_nodule3d_6c7cc_00003 result             |\n",
            "+-----------------------------------------------------+\n",
            "| checkpoint_dir_name                                 |\n",
            "| time_this_iter_s                            2.67975 |\n",
            "| time_total_s                                 10.116 |\n",
            "| training_iteration                                4 |\n",
            "| loss                                        0.38192 |\n",
            "+-----------------------------------------------------+\n",
            "\n",
            "Trial train_nodule3d_6c7cc_00003 finished iteration 5 at 2023-11-13 18:23:29. Total running time: 2min 17s\n",
            "+-----------------------------------------------------+\n",
            "| Trial train_nodule3d_6c7cc_00003 result             |\n",
            "+-----------------------------------------------------+\n",
            "| checkpoint_dir_name                                 |\n",
            "| time_this_iter_s                            2.75811 |\n",
            "| time_total_s                                12.8742 |\n",
            "| training_iteration                                5 |\n",
            "| loss                                        0.41602 |\n",
            "+-----------------------------------------------------+\n",
            "\n",
            "Trial train_nodule3d_6c7cc_00003 finished iteration 6 at 2023-11-13 18:23:31. Total running time: 2min 19s\n",
            "+-----------------------------------------------------+\n",
            "| Trial train_nodule3d_6c7cc_00003 result             |\n",
            "+-----------------------------------------------------+\n",
            "| checkpoint_dir_name                                 |\n",
            "| time_this_iter_s                            2.20287 |\n",
            "| time_total_s                                 15.077 |\n",
            "| training_iteration                                6 |\n",
            "| loss                                        0.34117 |\n",
            "+-----------------------------------------------------+\n",
            "\n",
            "Trial train_nodule3d_6c7cc_00003 finished iteration 7 at 2023-11-13 18:23:33. Total running time: 2min 21s\n",
            "+-----------------------------------------------------+\n",
            "| Trial train_nodule3d_6c7cc_00003 result             |\n",
            "+-----------------------------------------------------+\n",
            "| checkpoint_dir_name                                 |\n",
            "| time_this_iter_s                            2.12598 |\n",
            "| time_total_s                                 17.203 |\n",
            "| training_iteration                                7 |\n",
            "| loss                                         0.3313 |\n",
            "+-----------------------------------------------------+\n",
            "\n",
            "Trial train_nodule3d_6c7cc_00003 finished iteration 8 at 2023-11-13 18:23:35. Total running time: 2min 23s\n",
            "+-----------------------------------------------------+\n",
            "| Trial train_nodule3d_6c7cc_00003 result             |\n",
            "+-----------------------------------------------------+\n",
            "| checkpoint_dir_name                                 |\n",
            "| time_this_iter_s                            2.13489 |\n",
            "| time_total_s                                19.3379 |\n",
            "| training_iteration                                8 |\n",
            "| loss                                        0.30699 |\n",
            "+-----------------------------------------------------+\n",
            "\n",
            "Trial train_nodule3d_6c7cc_00003 finished iteration 9 at 2023-11-13 18:23:38. Total running time: 2min 26s\n",
            "+-----------------------------------------------------+\n",
            "| Trial train_nodule3d_6c7cc_00003 result             |\n",
            "+-----------------------------------------------------+\n",
            "| checkpoint_dir_name                                 |\n",
            "| time_this_iter_s                            2.40199 |\n",
            "| time_total_s                                21.7399 |\n",
            "| training_iteration                                9 |\n",
            "| loss                                        0.39408 |\n",
            "+-----------------------------------------------------+\n",
            "\n",
            "Trial train_nodule3d_6c7cc_00003 finished iteration 10 at 2023-11-13 18:23:40. Total running time: 2min 28s\n",
            "+-----------------------------------------------------+\n",
            "| Trial train_nodule3d_6c7cc_00003 result             |\n",
            "+-----------------------------------------------------+\n",
            "| checkpoint_dir_name                                 |\n",
            "| time_this_iter_s                            2.35548 |\n",
            "| time_total_s                                24.0954 |\n",
            "| training_iteration                               10 |\n",
            "| loss                                        0.37126 |\n",
            "+-----------------------------------------------------+\n",
            "\n",
            "Trial train_nodule3d_6c7cc_00003 completed after 10 iterations at 2023-11-13 18:23:40. Total running time: 2min 28s\n",
            "\u001b[36m(train_nodule3d pid=18757)\u001b[0m Finished Training\n",
            "\n",
            "Trial status: 4 TERMINATED | 1 PENDING\n",
            "Current time: 2023-11-13 18:23:44. Total running time: 2min 32s\n",
            "Logical resource usage: 2.0/2 CPUs, 1.0/1 GPUs\n",
            "+-------------------------------------------------------------------------------------------------------------+\n",
            "| Trial name                   status                lr     batch_size     iter     total time (s)       loss |\n",
            "+-------------------------------------------------------------------------------------------------------------+\n",
            "| train_nodule3d_6c7cc_00000   TERMINATED   0.012487                32       10            23.0198   0.348995 |\n",
            "| train_nodule3d_6c7cc_00001   TERMINATED   0.000333336             32       10            23.9674   0.327224 |\n",
            "| train_nodule3d_6c7cc_00002   TERMINATED   0.0359727               16       10            24.7037   0.433742 |\n",
            "| train_nodule3d_6c7cc_00003   TERMINATED   0.06343                128       10            24.0954   0.37126  |\n",
            "| train_nodule3d_6c7cc_00004   PENDING      0.00550379              16                                        |\n",
            "+-------------------------------------------------------------------------------------------------------------+\n"
          ]
        },
        {
          "output_type": "stream",
          "name": "stderr",
          "text": [
            "\u001b[36m(pid=18974)\u001b[0m 2023-11-13 18:23:50.419893: E tensorflow/compiler/xla/stream_executor/cuda/cuda_dnn.cc:9342] Unable to register cuDNN factory: Attempting to register factory for plugin cuDNN when one has already been registered\n",
            "\u001b[36m(pid=18974)\u001b[0m 2023-11-13 18:23:50.419953: E tensorflow/compiler/xla/stream_executor/cuda/cuda_fft.cc:609] Unable to register cuFFT factory: Attempting to register factory for plugin cuFFT when one has already been registered\n",
            "\u001b[36m(pid=18974)\u001b[0m 2023-11-13 18:23:50.419983: E tensorflow/compiler/xla/stream_executor/cuda/cuda_blas.cc:1518] Unable to register cuBLAS factory: Attempting to register factory for plugin cuBLAS when one has already been registered\n",
            "\u001b[36m(pid=18974)\u001b[0m 2023-11-13 18:23:51.701845: W tensorflow/compiler/tf2tensorrt/utils/py_utils.cc:38] TF-TRT Warning: Could not find TensorRT\n"
          ]
        },
        {
          "output_type": "stream",
          "name": "stdout",
          "text": [
            "\n",
            "Trial train_nodule3d_6c7cc_00004 started with configuration:\n",
            "+----------------------------------------------------+\n",
            "| Trial train_nodule3d_6c7cc_00004 config            |\n",
            "+----------------------------------------------------+\n",
            "| batch_size                                      16 |\n",
            "| lr                                          0.0055 |\n",
            "+----------------------------------------------------+\n",
            "\n",
            "Trial train_nodule3d_6c7cc_00004 finished iteration 1 at 2023-11-13 18:23:55. Total running time: 2min 43s\n",
            "+-----------------------------------------------------+\n",
            "| Trial train_nodule3d_6c7cc_00004 result             |\n",
            "+-----------------------------------------------------+\n",
            "| checkpoint_dir_name                                 |\n",
            "| time_this_iter_s                             2.7559 |\n",
            "| time_total_s                                 2.7559 |\n",
            "| training_iteration                                1 |\n",
            "| loss                                        0.36081 |\n",
            "+-----------------------------------------------------+\n",
            "\n",
            "Trial train_nodule3d_6c7cc_00004 finished iteration 2 at 2023-11-13 18:23:57. Total running time: 2min 45s\n",
            "+-----------------------------------------------------+\n",
            "| Trial train_nodule3d_6c7cc_00004 result             |\n",
            "+-----------------------------------------------------+\n",
            "| checkpoint_dir_name                                 |\n",
            "| time_this_iter_s                             2.2709 |\n",
            "| time_total_s                                 5.0268 |\n",
            "| training_iteration                                2 |\n",
            "| loss                                        0.40001 |\n",
            "+-----------------------------------------------------+\n",
            "\n",
            "Trial train_nodule3d_6c7cc_00004 finished iteration 3 at 2023-11-13 18:24:00. Total running time: 2min 48s\n",
            "+-----------------------------------------------------+\n",
            "| Trial train_nodule3d_6c7cc_00004 result             |\n",
            "+-----------------------------------------------------+\n",
            "| checkpoint_dir_name                                 |\n",
            "| time_this_iter_s                             2.6333 |\n",
            "| time_total_s                                 7.6601 |\n",
            "| training_iteration                                3 |\n",
            "| loss                                        0.35412 |\n",
            "+-----------------------------------------------------+\n",
            "\n",
            "Trial train_nodule3d_6c7cc_00004 finished iteration 4 at 2023-11-13 18:24:03. Total running time: 2min 51s\n",
            "+-----------------------------------------------------+\n",
            "| Trial train_nodule3d_6c7cc_00004 result             |\n",
            "+-----------------------------------------------------+\n",
            "| checkpoint_dir_name                                 |\n",
            "| time_this_iter_s                            2.79132 |\n",
            "| time_total_s                                10.4514 |\n",
            "| training_iteration                                4 |\n",
            "| loss                                        0.35566 |\n",
            "+-----------------------------------------------------+\n",
            "\n",
            "Trial train_nodule3d_6c7cc_00004 finished iteration 5 at 2023-11-13 18:24:05. Total running time: 2min 53s\n",
            "+-----------------------------------------------------+\n",
            "| Trial train_nodule3d_6c7cc_00004 result             |\n",
            "+-----------------------------------------------------+\n",
            "| checkpoint_dir_name                                 |\n",
            "| time_this_iter_s                            2.62785 |\n",
            "| time_total_s                                13.0793 |\n",
            "| training_iteration                                5 |\n",
            "| loss                                        0.36672 |\n",
            "+-----------------------------------------------------+\n",
            "\n",
            "Trial train_nodule3d_6c7cc_00004 finished iteration 6 at 2023-11-13 18:24:07. Total running time: 2min 55s\n",
            "+-----------------------------------------------------+\n",
            "| Trial train_nodule3d_6c7cc_00004 result             |\n",
            "+-----------------------------------------------------+\n",
            "| checkpoint_dir_name                                 |\n",
            "| time_this_iter_s                            2.14886 |\n",
            "| time_total_s                                15.2281 |\n",
            "| training_iteration                                6 |\n",
            "| loss                                        0.37691 |\n",
            "+-----------------------------------------------------+\n",
            "\n",
            "Trial train_nodule3d_6c7cc_00004 finished iteration 7 at 2023-11-13 18:24:09. Total running time: 2min 58s\n",
            "+-----------------------------------------------------+\n",
            "| Trial train_nodule3d_6c7cc_00004 result             |\n",
            "+-----------------------------------------------------+\n",
            "| checkpoint_dir_name                                 |\n",
            "| time_this_iter_s                            2.11732 |\n",
            "| time_total_s                                17.3454 |\n",
            "| training_iteration                                7 |\n",
            "| loss                                        0.38503 |\n",
            "+-----------------------------------------------------+\n",
            "\n",
            "Trial train_nodule3d_6c7cc_00004 finished iteration 8 at 2023-11-13 18:24:12. Total running time: 3min 0s\n",
            "+-----------------------------------------------------+\n",
            "| Trial train_nodule3d_6c7cc_00004 result             |\n",
            "+-----------------------------------------------------+\n",
            "| checkpoint_dir_name                                 |\n",
            "| time_this_iter_s                            2.12956 |\n",
            "| time_total_s                                 19.475 |\n",
            "| training_iteration                                8 |\n",
            "| loss                                         0.3883 |\n",
            "+-----------------------------------------------------+\n",
            "\n",
            "Trial train_nodule3d_6c7cc_00004 finished iteration 9 at 2023-11-13 18:24:14. Total running time: 3min 2s\n",
            "+-----------------------------------------------------+\n",
            "| Trial train_nodule3d_6c7cc_00004 result             |\n",
            "+-----------------------------------------------------+\n",
            "| checkpoint_dir_name                                 |\n",
            "| time_this_iter_s                            2.19094 |\n",
            "| time_total_s                                21.6659 |\n",
            "| training_iteration                                9 |\n",
            "| loss                                        0.34258 |\n",
            "+-----------------------------------------------------+\n",
            "\n",
            "Trial status: 4 TERMINATED | 1 RUNNING\n",
            "Current time: 2023-11-13 18:24:14. Total running time: 3min 2s\n",
            "Logical resource usage: 2.0/2 CPUs, 1.0/1 GPUs\n",
            "+-------------------------------------------------------------------------------------------------------------+\n",
            "| Trial name                   status                lr     batch_size     iter     total time (s)       loss |\n",
            "+-------------------------------------------------------------------------------------------------------------+\n",
            "| train_nodule3d_6c7cc_00004   RUNNING      0.00550379              16        9            21.666    0.342576 |\n",
            "| train_nodule3d_6c7cc_00000   TERMINATED   0.012487                32       10            23.0198   0.348995 |\n",
            "| train_nodule3d_6c7cc_00001   TERMINATED   0.000333336             32       10            23.9674   0.327224 |\n",
            "| train_nodule3d_6c7cc_00002   TERMINATED   0.0359727               16       10            24.7037   0.433742 |\n",
            "| train_nodule3d_6c7cc_00003   TERMINATED   0.06343                128       10            24.0954   0.37126  |\n",
            "+-------------------------------------------------------------------------------------------------------------+\n",
            "\n",
            "Trial train_nodule3d_6c7cc_00004 finished iteration 10 at 2023-11-13 18:24:16. Total running time: 3min 5s\n",
            "+-----------------------------------------------------+\n",
            "| Trial train_nodule3d_6c7cc_00004 result             |\n",
            "+-----------------------------------------------------+\n",
            "| checkpoint_dir_name                                 |\n",
            "| time_this_iter_s                            2.62965 |\n",
            "| time_total_s                                24.2956 |\n",
            "| training_iteration                               10 |\n",
            "| loss                                        0.62419 |\n",
            "+-----------------------------------------------------+\n",
            "\n",
            "Trial train_nodule3d_6c7cc_00004 completed after 10 iterations at 2023-11-13 18:24:16. Total running time: 3min 5s\n",
            "\n",
            "Trial status: 5 TERMINATED\n",
            "Current time: 2023-11-13 18:24:16. Total running time: 3min 5s\n",
            "Logical resource usage: 2.0/2 CPUs, 1.0/1 GPUs\n",
            "+-------------------------------------------------------------------------------------------------------------+\n",
            "| Trial name                   status                lr     batch_size     iter     total time (s)       loss |\n",
            "+-------------------------------------------------------------------------------------------------------------+\n",
            "| train_nodule3d_6c7cc_00000   TERMINATED   0.012487                32       10            23.0198   0.348995 |\n",
            "| train_nodule3d_6c7cc_00001   TERMINATED   0.000333336             32       10            23.9674   0.327224 |\n",
            "| train_nodule3d_6c7cc_00002   TERMINATED   0.0359727               16       10            24.7037   0.433742 |\n",
            "| train_nodule3d_6c7cc_00003   TERMINATED   0.06343                128       10            24.0954   0.37126  |\n",
            "| train_nodule3d_6c7cc_00004   TERMINATED   0.00550379              16       10            24.2956   0.624191 |\n",
            "+-------------------------------------------------------------------------------------------------------------+\n",
            "\n"
          ]
        }
      ]
    },
    {
      "cell_type": "code",
      "source": [
        "best_trial = result.get_best_trial(metric=\"loss\",mode=\"min\")"
      ],
      "metadata": {
        "id": "TBuqz9s5kgEI"
      },
      "execution_count": null,
      "outputs": []
    },
    {
      "cell_type": "code",
      "source": [
        "print(best_trial.config)"
      ],
      "metadata": {
        "colab": {
          "base_uri": "https://localhost:8080/"
        },
        "id": "RhYQXONGtw-b",
        "outputId": "2b41aa11-c1c9-40a8-ba84-304841b8987c"
      },
      "execution_count": null,
      "outputs": [
        {
          "output_type": "stream",
          "name": "stdout",
          "text": [
            "{'lr': 0.000333336393095575, 'batch_size': 32}\n"
          ]
        }
      ]
    },
    {
      "cell_type": "markdown",
      "source": [
        "# Re-train with the new parameters"
      ],
      "metadata": {
        "id": "Cso6Gs778wuz"
      }
    },
    {
      "cell_type": "code",
      "source": [
        "# hyparameters\n",
        "BATCH_SIZE = 32\n",
        "EPOCH_NUM = 35\n",
        "learn_rate = 0.0003"
      ],
      "metadata": {
        "id": "QaAzJhy67j_9"
      },
      "execution_count": null,
      "outputs": []
    },
    {
      "cell_type": "code",
      "source": [
        "train_loss, val_loss = train(train_loader, model, optimizer, criterion, EPOCH_NUM, validation_loader)\n",
        "\n",
        "\n",
        "# learning curves\n",
        "plt.figure()\n",
        "plt.plot(train_loss, label='Training Loss')\n",
        "plt.plot(val_loss, label='Validation Loss')\n",
        "plt.xlabel('Epochs')\n",
        "plt.ylabel('Loss')\n",
        "plt.title('Training and Validation Loss')\n",
        "plt.legend()\n",
        "plt.show()"
      ],
      "metadata": {
        "colab": {
          "base_uri": "https://localhost:8080/",
          "height": 1000
        },
        "id": "YDLW90Mg7xqH",
        "outputId": "b294e1b1-5116-477c-c770-b7f67e7b4fbc"
      },
      "execution_count": null,
      "outputs": [
        {
          "output_type": "stream",
          "name": "stdout",
          "text": [
            "|##################################################|  100.00% Epoch [1/35], Training Loss: 0.67352, Validation Loss: 0.69083\n",
            "|##################################################|  100.00% Epoch [2/35], Training Loss: 0.60054, Validation Loss: 0.63881\n",
            "|##################################################|  100.00% Epoch [3/35], Training Loss: 0.5604, Validation Loss: 0.57639\n",
            "|##################################################|  100.00% Epoch [4/35], Training Loss: 0.51774, Validation Loss: 0.51804\n",
            "|##################################################|  100.00% Epoch [5/35], Training Loss: 0.47702, Validation Loss: 0.46572\n",
            "|##################################################|  100.00% Epoch [6/35], Training Loss: 0.44172, Validation Loss: 0.41834\n",
            "|##################################################|  100.00% Epoch [7/35], Training Loss: 0.42144, Validation Loss: 0.38574\n",
            "|##################################################|  100.00% Epoch [8/35], Training Loss: 0.40017, Validation Loss: 0.35899\n",
            "|##################################################|  100.00% Epoch [9/35], Training Loss: 0.38228, Validation Loss: 0.34181\n",
            "|##################################################|  100.00% Epoch [10/35], Training Loss: 0.36605, Validation Loss: 0.33001\n",
            "|##################################################|  100.00% Epoch [11/35], Training Loss: 0.36099, Validation Loss: 0.32291\n",
            "|##################################################|  100.00% Epoch [12/35], Training Loss: 0.34965, Validation Loss: 0.31817\n",
            "|##################################################|  100.00% Epoch [13/35], Training Loss: 0.34973, Validation Loss: 0.31285\n",
            "|##################################################|  100.00% Epoch [14/35], Training Loss: 0.33354, Validation Loss: 0.31287\n",
            "|##################################################|  100.00% Epoch [15/35], Training Loss: 0.32644, Validation Loss: 0.30907\n",
            "|##################################################|  100.00% Epoch [16/35], Training Loss: 0.32195, Validation Loss: 0.30696\n",
            "|##################################################|  100.00% Epoch [17/35], Training Loss: 0.31692, Validation Loss: 0.3076\n",
            "|##################################################|  100.00% Epoch [18/35], Training Loss: 0.31191, Validation Loss: 0.30642\n",
            "|##################################################|  100.00% Epoch [19/35], Training Loss: 0.30299, Validation Loss: 0.30558\n",
            "|##################################################|  100.00% Epoch [20/35], Training Loss: 0.29845, Validation Loss: 0.30578\n",
            "|##################################################|  100.00% Epoch [21/35], Training Loss: 0.30109, Validation Loss: 0.30789\n",
            "|##################################################|  100.00% Epoch [22/35], Training Loss: 0.28612, Validation Loss: 0.30807\n",
            "|##################################################|  100.00% Epoch [23/35], Training Loss: 0.28275, Validation Loss: 0.30783\n",
            "|##################################################|  100.00% Epoch [24/35], Training Loss: 0.27417, Validation Loss: 0.30368\n",
            "|##################################################|  100.00% Epoch [25/35], Training Loss: 0.27103, Validation Loss: 0.30525\n",
            "|##################################################|  100.00% Epoch [26/35], Training Loss: 0.26908, Validation Loss: 0.30532\n",
            "|##################################################|  100.00% Epoch [27/35], Training Loss: 0.26641, Validation Loss: 0.30695\n",
            "|##################################################|  100.00% Epoch [28/35], Training Loss: 0.25699, Validation Loss: 0.30666\n",
            "|##################################################|  100.00% Epoch [29/35], Training Loss: 0.25044, Validation Loss: 0.30751\n",
            "|##################################################|  100.00% Epoch [30/35], Training Loss: 0.24333, Validation Loss: 0.31003\n",
            "|##################################################|  100.00% Epoch [31/35], Training Loss: 0.24331, Validation Loss: 0.30521\n",
            "|##################################################|  100.00% Epoch [32/35], Training Loss: 0.23436, Validation Loss: 0.30722\n",
            "|##################################################|  100.00% Epoch [33/35], Training Loss: 0.23158, Validation Loss: 0.30699\n",
            "|##################################################|  100.00% Epoch [34/35], Training Loss: 0.21886, Validation Loss: 0.3079\n",
            "|##################################################|  100.00% Epoch [35/35], Training Loss: 0.21266, Validation Loss: 0.31194\n"
          ]
        },
        {
          "output_type": "display_data",
          "data": {
            "text/plain": [
              "<Figure size 640x480 with 1 Axes>"
            ],
            "image/png": "[encoded data removed]"
          },
          "metadata": {}
        }
      ]
    },
    {
      "cell_type": "code",
      "source": [
        "actuals_train, predictions_train, AUC_train, ACC_train = test(train_loader, model,criterion)\n",
        "actuals_val, predictions_val, AUC_val, ACC_val = test(validation_loader, model,criterion)\n",
        "\n",
        "\n",
        "print(f' Training --> AUC: {AUC_train:.3f}, ACC: {ACC_train:.3f}\\n')\n",
        "print(f' Validation --> AUC: {AUC_val:.3f}, ACC: {ACC_val:.3f}\\n')"
      ],
      "metadata": {
        "colab": {
          "base_uri": "https://localhost:8080/"
        },
        "id": "Lp6YycPs8Jnc",
        "outputId": "ca69c22b-2ecc-4d67-89d9-3bb1567cae57"
      },
      "execution_count": null,
      "outputs": [
        {
          "output_type": "stream",
          "name": "stdout",
          "text": [
            " Training --> AUC: 0.973, ACC: 0.930\n",
            "\n",
            " Validation --> AUC: 0.893, ACC: 0.861\n",
            "\n"
          ]
        }
      ]
    },
    {
      "cell_type": "markdown",
      "source": [
        "# (############)"
      ],
      "metadata": {
        "id": "mb8R2xCncmNx"
      }
    }
  ]
}